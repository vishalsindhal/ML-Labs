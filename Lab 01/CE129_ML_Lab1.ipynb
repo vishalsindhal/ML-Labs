{
  "nbformat": 4,
  "nbformat_minor": 0,
  "metadata": {
    "colab": {
      "provenance": []
    },
    "kernelspec": {
      "name": "python3",
      "display_name": "Python 3"
    },
    "language_info": {
      "name": "python"
    }
  },
  "cells": [
    {
      "cell_type": "code",
      "execution_count": 23,
      "metadata": {
        "colab": {
          "base_uri": "https://localhost:8080/"
        },
        "id": "zRy3Z555aN4M",
        "outputId": "0367cb76-c656-4557-b5cc-977762039028"
      },
      "outputs": [
        {
          "output_type": "execute_result",
          "data": {
            "text/plain": [
              "array([ 8.37340921e-01, -2.55781514e-01,  1.72640583e+00, -3.25476229e-01,\n",
              "        7.21999459e-01, -5.84368235e-03, -2.12763326e-02, -9.90379091e-01,\n",
              "        4.39637278e-01,  5.15890877e-01,  1.03905166e+00,  2.33002408e-01,\n",
              "        1.74497571e+00, -9.72245912e-01, -5.83462291e-02, -3.23764710e-01,\n",
              "       -5.86623573e-01,  3.73599889e-01,  8.61320311e-01, -4.27821165e-01,\n",
              "        1.33274820e+00,  7.55161697e-01, -2.06623272e-01,  3.75908519e-01,\n",
              "        2.30338469e+00,  2.63765565e-01,  3.15345191e-01, -1.02945679e+00,\n",
              "       -6.82578917e-01, -2.42620821e-01, -3.40818329e-01, -3.72157812e-01,\n",
              "        1.17250217e+00, -2.92925949e+00, -9.75477878e-01, -7.89924916e-01,\n",
              "        6.30911613e-02,  1.13865175e-01, -2.24392197e+00, -8.39486336e-01,\n",
              "       -1.08690868e+00, -4.81281940e-01, -4.07574923e-01, -2.66160612e-01,\n",
              "       -4.88207101e-01, -5.92817161e-01, -2.16512996e+00, -9.81507692e-01,\n",
              "        4.92971699e-03, -4.76096959e-01, -1.53115629e-01,  5.27290280e-01,\n",
              "        1.33242477e+00,  6.78133697e-01, -2.69179079e-01,  3.10528418e-01,\n",
              "        1.70062956e+00,  9.23594303e-01,  1.21692606e+00,  4.89325093e-01,\n",
              "       -1.18282883e+00,  7.99769727e-01,  8.94987016e-01,  1.99946195e+00,\n",
              "       -2.23605901e+00,  1.01307744e+00, -6.83564395e-03, -1.24198800e+00,\n",
              "        5.64031326e-01, -1.70738122e-01, -1.05573255e+00, -1.79804033e-01,\n",
              "        1.34578614e+00,  3.17359241e-01, -4.59187268e-01,  9.36883317e-01,\n",
              "        1.78741544e-01, -1.36828098e+00, -1.24179718e+00, -8.03921043e-01,\n",
              "        7.19418363e-01, -8.86182057e-01, -2.67693296e-01,  7.76978722e-01,\n",
              "        6.24426729e-01,  8.65152718e-01,  1.21272864e+00,  1.48057795e-03,\n",
              "        9.68862056e-01, -1.51703610e+00,  2.02311679e+00,  2.72597434e-01,\n",
              "       -1.05753874e+00, -8.79135837e-01, -1.09571551e-01, -3.05480369e+00,\n",
              "        6.64481388e-01, -1.13232148e-01, -1.62577778e+00,  5.29336698e-01])"
            ]
          },
          "metadata": {},
          "execution_count": 23
        }
      ],
      "source": [
        "import numpy as np\n",
        "random_array = np.random.normal(0.0, 1.0, 100)\n",
        "random_array"
      ]
    },
    {
      "cell_type": "markdown",
      "source": [
        "**Create 1D array arr1  with 10 elements.bold text**\n",
        "\n",
        "\n",
        "---\n",
        "\n"
      ],
      "metadata": {
        "id": "8qw1veSeReJr"
      }
    },
    {
      "cell_type": "code",
      "source": [
        "arr1=np.random.randint(0,10,10)\n",
        "arr1\n"
      ],
      "metadata": {
        "id": "miIWmLnraXHt",
        "colab": {
          "base_uri": "https://localhost:8080/"
        },
        "outputId": "f950ae17-4b0d-467c-b0ee-47907488e355"
      },
      "execution_count": 24,
      "outputs": [
        {
          "output_type": "execute_result",
          "data": {
            "text/plain": [
              "array([4, 2, 1, 7, 8, 1, 4, 6, 2, 6])"
            ]
          },
          "metadata": {},
          "execution_count": 24
        }
      ]
    },
    {
      "cell_type": "markdown",
      "source": [
        "(a) Slice this array starting from 3rd value to the end.\n",
        "\n",
        "\n",
        "(b) What is the result if you perform the following slicing on the given array. arr1\n",
        "\n",
        "\n",
        "---\n",
        "\n"
      ],
      "metadata": {
        "id": "9iyZMlNySVjX"
      }
    },
    {
      "cell_type": "code",
      "source": [
        "arr1[3:11]"
      ],
      "metadata": {
        "colab": {
          "base_uri": "https://localhost:8080/"
        },
        "id": "zB7NhqOIS3vl",
        "outputId": "7a890081-14bc-4a12-d247-5b235c3929ec"
      },
      "execution_count": 25,
      "outputs": [
        {
          "output_type": "execute_result",
          "data": {
            "text/plain": [
              "array([7, 8, 1, 4, 6, 2, 6])"
            ]
          },
          "metadata": {},
          "execution_count": 25
        }
      ]
    },
    {
      "cell_type": "code",
      "source": [
        "arr1[-4:-2]"
      ],
      "metadata": {
        "colab": {
          "base_uri": "https://localhost:8080/"
        },
        "id": "W8U_6pfzTA-F",
        "outputId": "7307a5fe-c590-47b7-db71-ec76c44c167d"
      },
      "execution_count": 26,
      "outputs": [
        {
          "output_type": "execute_result",
          "data": {
            "text/plain": [
              "array([4, 6])"
            ]
          },
          "metadata": {},
          "execution_count": 26
        }
      ]
    },
    {
      "cell_type": "markdown",
      "source": [
        "4. Create two numpy arrays of size 4 x 4. Write functions used to calculate determinant ofmatrix, transpose of a matrix, norm of a matrix and to perform matrix multiplication. Write all the results.\n",
        "\n",
        "\n",
        "---\n",
        "\n"
      ],
      "metadata": {
        "id": "C8u9jev0TGrh"
      }
    },
    {
      "cell_type": "code",
      "source": [
        "m1=np.random.randint(0,20,size=(4,4))\n",
        "m2=np.random.randint(0,20,size=(4,4))\n",
        "m1\n"
      ],
      "metadata": {
        "colab": {
          "base_uri": "https://localhost:8080/"
        },
        "id": "d8lYepUKTQTH",
        "outputId": "056d8e6e-72b0-4e16-8b19-0950a1bf86a6"
      },
      "execution_count": 27,
      "outputs": [
        {
          "output_type": "execute_result",
          "data": {
            "text/plain": [
              "array([[ 8,  8, 11, 19],\n",
              "       [19, 17,  7, 15],\n",
              "       [ 3,  0,  5, 16],\n",
              "       [ 9,  8, 18,  9]])"
            ]
          },
          "metadata": {},
          "execution_count": 27
        }
      ]
    },
    {
      "cell_type": "code",
      "source": [
        "m2"
      ],
      "metadata": {
        "colab": {
          "base_uri": "https://localhost:8080/"
        },
        "id": "YHuJIU0OTfuL",
        "outputId": "9c59246c-f64d-4004-874f-602bd2f2304d"
      },
      "execution_count": 28,
      "outputs": [
        {
          "output_type": "execute_result",
          "data": {
            "text/plain": [
              "array([[ 3, 14,  9,  7],\n",
              "       [13, 14, 13,  9],\n",
              "       [ 3, 14, 13,  2],\n",
              "       [ 8,  9, 11,  2]])"
            ]
          },
          "metadata": {},
          "execution_count": 28
        }
      ]
    },
    {
      "cell_type": "code",
      "source": [
        "m1*m2"
      ],
      "metadata": {
        "colab": {
          "base_uri": "https://localhost:8080/"
        },
        "id": "ozd7eRZZTqFY",
        "outputId": "77cd0be6-31e6-4a9d-b9df-9ca728f98109"
      },
      "execution_count": 29,
      "outputs": [
        {
          "output_type": "execute_result",
          "data": {
            "text/plain": [
              "array([[ 24, 112,  99, 133],\n",
              "       [247, 238,  91, 135],\n",
              "       [  9,   0,  65,  32],\n",
              "       [ 72,  72, 198,  18]])"
            ]
          },
          "metadata": {},
          "execution_count": 29
        }
      ]
    },
    {
      "cell_type": "code",
      "source": [
        "m1.T"
      ],
      "metadata": {
        "colab": {
          "base_uri": "https://localhost:8080/"
        },
        "id": "nsSh8Dc7Tu70",
        "outputId": "8385eb9d-31fd-4306-fb28-886c3547c950"
      },
      "execution_count": 30,
      "outputs": [
        {
          "output_type": "execute_result",
          "data": {
            "text/plain": [
              "array([[ 8, 19,  3,  9],\n",
              "       [ 8, 17,  0,  8],\n",
              "       [11,  7,  5, 18],\n",
              "       [19, 15, 16,  9]])"
            ]
          },
          "metadata": {},
          "execution_count": 30
        }
      ]
    },
    {
      "cell_type": "code",
      "source": [
        "m2.T"
      ],
      "metadata": {
        "colab": {
          "base_uri": "https://localhost:8080/"
        },
        "id": "0hpXBp2BTw_T",
        "outputId": "109068b7-b7d4-4b0c-cd2c-bbb5691b5a0e"
      },
      "execution_count": 31,
      "outputs": [
        {
          "output_type": "execute_result",
          "data": {
            "text/plain": [
              "array([[ 3, 13,  3,  8],\n",
              "       [14, 14, 14,  9],\n",
              "       [ 9, 13, 13, 11],\n",
              "       [ 7,  9,  2,  2]])"
            ]
          },
          "metadata": {},
          "execution_count": 31
        }
      ]
    },
    {
      "cell_type": "code",
      "source": [
        "det = np.linalg.det(m1)\n",
        "det"
      ],
      "metadata": {
        "colab": {
          "base_uri": "https://localhost:8080/"
        },
        "id": "1dE8iC8dT2Fe",
        "outputId": "f9b8246f-99a4-4ff6-c0eb-f4a12c1ce8fe"
      },
      "execution_count": 32,
      "outputs": [
        {
          "output_type": "execute_result",
          "data": {
            "text/plain": [
              "11866.000000000011"
            ]
          },
          "metadata": {},
          "execution_count": 32
        }
      ]
    },
    {
      "cell_type": "code",
      "source": [
        "det = np.linalg.det(m2)\n",
        "det"
      ],
      "metadata": {
        "colab": {
          "base_uri": "https://localhost:8080/"
        },
        "id": "iBcjov4KT70y",
        "outputId": "bdee8c5c-bc3e-4be1-b20e-4c6796887992"
      },
      "execution_count": 33,
      "outputs": [
        {
          "output_type": "execute_result",
          "data": {
            "text/plain": [
              "129.99999999999903"
            ]
          },
          "metadata": {},
          "execution_count": 33
        }
      ]
    },
    {
      "cell_type": "code",
      "source": [
        "normByCols = np.linalg.norm(m1, axis=0) # Get the norm for each column.␣\n",
        "normByRows = np.linalg.norm(m1, axis=1) # get the norm for each row.␣\n",
        "     "
      ],
      "metadata": {
        "id": "6FAq_qQsUMES"
      },
      "execution_count": 34,
      "outputs": []
    },
    {
      "cell_type": "code",
      "source": [
        "normByCols"
      ],
      "metadata": {
        "colab": {
          "base_uri": "https://localhost:8080/"
        },
        "id": "K8tMSdSCUSRR",
        "outputId": "8a7eb2db-c253-4547-f230-bbfe7ddbf4be"
      },
      "execution_count": 35,
      "outputs": [
        {
          "output_type": "execute_result",
          "data": {
            "text/plain": [
              "array([22.69361144, 20.42057786, 22.7815715 , 30.38091506])"
            ]
          },
          "metadata": {},
          "execution_count": 35
        }
      ]
    },
    {
      "cell_type": "code",
      "source": [
        "normByRows"
      ],
      "metadata": {
        "colab": {
          "base_uri": "https://localhost:8080/"
        },
        "id": "0ra8V2SBUbFT",
        "outputId": "d2853c09-e3a4-42d3-e4c4-d2756c2603ab"
      },
      "execution_count": 36,
      "outputs": [
        {
          "output_type": "execute_result",
          "data": {
            "text/plain": [
              "array([24.69817807, 30.39736831, 17.02938637, 23.4520788 ])"
            ]
          },
          "metadata": {},
          "execution_count": 36
        }
      ]
    },
    {
      "cell_type": "code",
      "source": [
        "normByCols = np.linalg.norm(m2, axis=0) # Get the norm for each column.␣\n",
        "normByRows = np.linalg.norm(m2, axis=1) # get the norm for each row.␣"
      ],
      "metadata": {
        "id": "-QES0-zZU2AF"
      },
      "execution_count": 37,
      "outputs": []
    },
    {
      "cell_type": "code",
      "source": [
        "normByCols\n"
      ],
      "metadata": {
        "colab": {
          "base_uri": "https://localhost:8080/"
        },
        "id": "ztdTP_1pU5H8",
        "outputId": "916a9aa9-dae8-4c28-ae8f-f52f164b7405"
      },
      "execution_count": 38,
      "outputs": [
        {
          "output_type": "execute_result",
          "data": {
            "text/plain": [
              "array([15.84297952, 25.86503431, 23.23790008, 11.74734012])"
            ]
          },
          "metadata": {},
          "execution_count": 38
        }
      ]
    },
    {
      "cell_type": "code",
      "source": [
        "normByRows"
      ],
      "metadata": {
        "colab": {
          "base_uri": "https://localhost:8080/"
        },
        "id": "ScwcoNN0U7dL",
        "outputId": "ba754089-854c-45c3-8ce9-4bfd8e0179b1"
      },
      "execution_count": 39,
      "outputs": [
        {
          "output_type": "execute_result",
          "data": {
            "text/plain": [
              "array([18.30300522, 24.79919354, 19.4422221 , 16.43167673])"
            ]
          },
          "metadata": {},
          "execution_count": 39
        }
      ]
    },
    {
      "cell_type": "code",
      "source": [
        "from sklearn.datasets import load_iris\n",
        "\n",
        "Data=load_iris()\n",
        "import pandas as pd\n",
        "df=pd.DataFrame(Data.data, columns=Data.feature_names)\n",
        "df[\"target\"]=pd.Series(Data.target)\n",
        "     \n",
        "df"
      ],
      "metadata": {
        "colab": {
          "base_uri": "https://localhost:8080/",
          "height": 423
        },
        "id": "KLgoXQOKVAfv",
        "outputId": "39745f5d-7195-453e-a09d-9d749603c29c"
      },
      "execution_count": 42,
      "outputs": [
        {
          "output_type": "execute_result",
          "data": {
            "text/plain": [
              "     sepal length (cm)  sepal width (cm)  petal length (cm)  petal width (cm)  \\\n",
              "0                  5.1               3.5                1.4               0.2   \n",
              "1                  4.9               3.0                1.4               0.2   \n",
              "2                  4.7               3.2                1.3               0.2   \n",
              "3                  4.6               3.1                1.5               0.2   \n",
              "4                  5.0               3.6                1.4               0.2   \n",
              "..                 ...               ...                ...               ...   \n",
              "145                6.7               3.0                5.2               2.3   \n",
              "146                6.3               2.5                5.0               1.9   \n",
              "147                6.5               3.0                5.2               2.0   \n",
              "148                6.2               3.4                5.4               2.3   \n",
              "149                5.9               3.0                5.1               1.8   \n",
              "\n",
              "     target  \n",
              "0         0  \n",
              "1         0  \n",
              "2         0  \n",
              "3         0  \n",
              "4         0  \n",
              "..      ...  \n",
              "145       2  \n",
              "146       2  \n",
              "147       2  \n",
              "148       2  \n",
              "149       2  \n",
              "\n",
              "[150 rows x 5 columns]"
            ],
            "text/html": [
              "\n",
              "  <div id=\"df-1edfefae-5942-446a-a28b-fa95c765b40e\">\n",
              "    <div class=\"colab-df-container\">\n",
              "      <div>\n",
              "<style scoped>\n",
              "    .dataframe tbody tr th:only-of-type {\n",
              "        vertical-align: middle;\n",
              "    }\n",
              "\n",
              "    .dataframe tbody tr th {\n",
              "        vertical-align: top;\n",
              "    }\n",
              "\n",
              "    .dataframe thead th {\n",
              "        text-align: right;\n",
              "    }\n",
              "</style>\n",
              "<table border=\"1\" class=\"dataframe\">\n",
              "  <thead>\n",
              "    <tr style=\"text-align: right;\">\n",
              "      <th></th>\n",
              "      <th>sepal length (cm)</th>\n",
              "      <th>sepal width (cm)</th>\n",
              "      <th>petal length (cm)</th>\n",
              "      <th>petal width (cm)</th>\n",
              "      <th>target</th>\n",
              "    </tr>\n",
              "  </thead>\n",
              "  <tbody>\n",
              "    <tr>\n",
              "      <th>0</th>\n",
              "      <td>5.1</td>\n",
              "      <td>3.5</td>\n",
              "      <td>1.4</td>\n",
              "      <td>0.2</td>\n",
              "      <td>0</td>\n",
              "    </tr>\n",
              "    <tr>\n",
              "      <th>1</th>\n",
              "      <td>4.9</td>\n",
              "      <td>3.0</td>\n",
              "      <td>1.4</td>\n",
              "      <td>0.2</td>\n",
              "      <td>0</td>\n",
              "    </tr>\n",
              "    <tr>\n",
              "      <th>2</th>\n",
              "      <td>4.7</td>\n",
              "      <td>3.2</td>\n",
              "      <td>1.3</td>\n",
              "      <td>0.2</td>\n",
              "      <td>0</td>\n",
              "    </tr>\n",
              "    <tr>\n",
              "      <th>3</th>\n",
              "      <td>4.6</td>\n",
              "      <td>3.1</td>\n",
              "      <td>1.5</td>\n",
              "      <td>0.2</td>\n",
              "      <td>0</td>\n",
              "    </tr>\n",
              "    <tr>\n",
              "      <th>4</th>\n",
              "      <td>5.0</td>\n",
              "      <td>3.6</td>\n",
              "      <td>1.4</td>\n",
              "      <td>0.2</td>\n",
              "      <td>0</td>\n",
              "    </tr>\n",
              "    <tr>\n",
              "      <th>...</th>\n",
              "      <td>...</td>\n",
              "      <td>...</td>\n",
              "      <td>...</td>\n",
              "      <td>...</td>\n",
              "      <td>...</td>\n",
              "    </tr>\n",
              "    <tr>\n",
              "      <th>145</th>\n",
              "      <td>6.7</td>\n",
              "      <td>3.0</td>\n",
              "      <td>5.2</td>\n",
              "      <td>2.3</td>\n",
              "      <td>2</td>\n",
              "    </tr>\n",
              "    <tr>\n",
              "      <th>146</th>\n",
              "      <td>6.3</td>\n",
              "      <td>2.5</td>\n",
              "      <td>5.0</td>\n",
              "      <td>1.9</td>\n",
              "      <td>2</td>\n",
              "    </tr>\n",
              "    <tr>\n",
              "      <th>147</th>\n",
              "      <td>6.5</td>\n",
              "      <td>3.0</td>\n",
              "      <td>5.2</td>\n",
              "      <td>2.0</td>\n",
              "      <td>2</td>\n",
              "    </tr>\n",
              "    <tr>\n",
              "      <th>148</th>\n",
              "      <td>6.2</td>\n",
              "      <td>3.4</td>\n",
              "      <td>5.4</td>\n",
              "      <td>2.3</td>\n",
              "      <td>2</td>\n",
              "    </tr>\n",
              "    <tr>\n",
              "      <th>149</th>\n",
              "      <td>5.9</td>\n",
              "      <td>3.0</td>\n",
              "      <td>5.1</td>\n",
              "      <td>1.8</td>\n",
              "      <td>2</td>\n",
              "    </tr>\n",
              "  </tbody>\n",
              "</table>\n",
              "<p>150 rows × 5 columns</p>\n",
              "</div>\n",
              "      <button class=\"colab-df-convert\" onclick=\"convertToInteractive('df-1edfefae-5942-446a-a28b-fa95c765b40e')\"\n",
              "              title=\"Convert this dataframe to an interactive table.\"\n",
              "              style=\"display:none;\">\n",
              "        \n",
              "  <svg xmlns=\"http://www.w3.org/2000/svg\" height=\"24px\"viewBox=\"0 0 24 24\"\n",
              "       width=\"24px\">\n",
              "    <path d=\"M0 0h24v24H0V0z\" fill=\"none\"/>\n",
              "    <path d=\"M18.56 5.44l.94 2.06.94-2.06 2.06-.94-2.06-.94-.94-2.06-.94 2.06-2.06.94zm-11 1L8.5 8.5l.94-2.06 2.06-.94-2.06-.94L8.5 2.5l-.94 2.06-2.06.94zm10 10l.94 2.06.94-2.06 2.06-.94-2.06-.94-.94-2.06-.94 2.06-2.06.94z\"/><path d=\"M17.41 7.96l-1.37-1.37c-.4-.4-.92-.59-1.43-.59-.52 0-1.04.2-1.43.59L10.3 9.45l-7.72 7.72c-.78.78-.78 2.05 0 2.83L4 21.41c.39.39.9.59 1.41.59.51 0 1.02-.2 1.41-.59l7.78-7.78 2.81-2.81c.8-.78.8-2.07 0-2.86zM5.41 20L4 18.59l7.72-7.72 1.47 1.35L5.41 20z\"/>\n",
              "  </svg>\n",
              "      </button>\n",
              "      \n",
              "  <style>\n",
              "    .colab-df-container {\n",
              "      display:flex;\n",
              "      flex-wrap:wrap;\n",
              "      gap: 12px;\n",
              "    }\n",
              "\n",
              "    .colab-df-convert {\n",
              "      background-color: #E8F0FE;\n",
              "      border: none;\n",
              "      border-radius: 50%;\n",
              "      cursor: pointer;\n",
              "      display: none;\n",
              "      fill: #1967D2;\n",
              "      height: 32px;\n",
              "      padding: 0 0 0 0;\n",
              "      width: 32px;\n",
              "    }\n",
              "\n",
              "    .colab-df-convert:hover {\n",
              "      background-color: #E2EBFA;\n",
              "      box-shadow: 0px 1px 2px rgba(60, 64, 67, 0.3), 0px 1px 3px 1px rgba(60, 64, 67, 0.15);\n",
              "      fill: #174EA6;\n",
              "    }\n",
              "\n",
              "    [theme=dark] .colab-df-convert {\n",
              "      background-color: #3B4455;\n",
              "      fill: #D2E3FC;\n",
              "    }\n",
              "\n",
              "    [theme=dark] .colab-df-convert:hover {\n",
              "      background-color: #434B5C;\n",
              "      box-shadow: 0px 1px 3px 1px rgba(0, 0, 0, 0.15);\n",
              "      filter: drop-shadow(0px 1px 2px rgba(0, 0, 0, 0.3));\n",
              "      fill: #FFFFFF;\n",
              "    }\n",
              "  </style>\n",
              "\n",
              "      <script>\n",
              "        const buttonEl =\n",
              "          document.querySelector('#df-1edfefae-5942-446a-a28b-fa95c765b40e button.colab-df-convert');\n",
              "        buttonEl.style.display =\n",
              "          google.colab.kernel.accessAllowed ? 'block' : 'none';\n",
              "\n",
              "        async function convertToInteractive(key) {\n",
              "          const element = document.querySelector('#df-1edfefae-5942-446a-a28b-fa95c765b40e');\n",
              "          const dataTable =\n",
              "            await google.colab.kernel.invokeFunction('convertToInteractive',\n",
              "                                                     [key], {});\n",
              "          if (!dataTable) return;\n",
              "\n",
              "          const docLinkHtml = 'Like what you see? Visit the ' +\n",
              "            '<a target=\"_blank\" href=https://colab.research.google.com/notebooks/data_table.ipynb>data table notebook</a>'\n",
              "            + ' to learn more about interactive tables.';\n",
              "          element.innerHTML = '';\n",
              "          dataTable['output_type'] = 'display_data';\n",
              "          await google.colab.output.renderOutput(dataTable, element);\n",
              "          const docLink = document.createElement('div');\n",
              "          docLink.innerHTML = docLinkHtml;\n",
              "          element.appendChild(docLink);\n",
              "        }\n",
              "      </script>\n",
              "    </div>\n",
              "  </div>\n",
              "  "
            ]
          },
          "metadata": {},
          "execution_count": 42
        }
      ]
    },
    {
      "cell_type": "code",
      "source": [
        "X=df.iloc[1:5,:]\n",
        "X"
      ],
      "metadata": {
        "colab": {
          "base_uri": "https://localhost:8080/",
          "height": 175
        },
        "id": "jbgJVGjjVPi6",
        "outputId": "0a5455b5-2489-4cf6-b318-faabbf800d9c"
      },
      "execution_count": 43,
      "outputs": [
        {
          "output_type": "execute_result",
          "data": {
            "text/plain": [
              "   sepal length (cm)  sepal width (cm)  petal length (cm)  petal width (cm)  \\\n",
              "1                4.9               3.0                1.4               0.2   \n",
              "2                4.7               3.2                1.3               0.2   \n",
              "3                4.6               3.1                1.5               0.2   \n",
              "4                5.0               3.6                1.4               0.2   \n",
              "\n",
              "   target  \n",
              "1       0  \n",
              "2       0  \n",
              "3       0  \n",
              "4       0  "
            ],
            "text/html": [
              "\n",
              "  <div id=\"df-6fe78601-57d5-470e-a859-7becd143b231\">\n",
              "    <div class=\"colab-df-container\">\n",
              "      <div>\n",
              "<style scoped>\n",
              "    .dataframe tbody tr th:only-of-type {\n",
              "        vertical-align: middle;\n",
              "    }\n",
              "\n",
              "    .dataframe tbody tr th {\n",
              "        vertical-align: top;\n",
              "    }\n",
              "\n",
              "    .dataframe thead th {\n",
              "        text-align: right;\n",
              "    }\n",
              "</style>\n",
              "<table border=\"1\" class=\"dataframe\">\n",
              "  <thead>\n",
              "    <tr style=\"text-align: right;\">\n",
              "      <th></th>\n",
              "      <th>sepal length (cm)</th>\n",
              "      <th>sepal width (cm)</th>\n",
              "      <th>petal length (cm)</th>\n",
              "      <th>petal width (cm)</th>\n",
              "      <th>target</th>\n",
              "    </tr>\n",
              "  </thead>\n",
              "  <tbody>\n",
              "    <tr>\n",
              "      <th>1</th>\n",
              "      <td>4.9</td>\n",
              "      <td>3.0</td>\n",
              "      <td>1.4</td>\n",
              "      <td>0.2</td>\n",
              "      <td>0</td>\n",
              "    </tr>\n",
              "    <tr>\n",
              "      <th>2</th>\n",
              "      <td>4.7</td>\n",
              "      <td>3.2</td>\n",
              "      <td>1.3</td>\n",
              "      <td>0.2</td>\n",
              "      <td>0</td>\n",
              "    </tr>\n",
              "    <tr>\n",
              "      <th>3</th>\n",
              "      <td>4.6</td>\n",
              "      <td>3.1</td>\n",
              "      <td>1.5</td>\n",
              "      <td>0.2</td>\n",
              "      <td>0</td>\n",
              "    </tr>\n",
              "    <tr>\n",
              "      <th>4</th>\n",
              "      <td>5.0</td>\n",
              "      <td>3.6</td>\n",
              "      <td>1.4</td>\n",
              "      <td>0.2</td>\n",
              "      <td>0</td>\n",
              "    </tr>\n",
              "  </tbody>\n",
              "</table>\n",
              "</div>\n",
              "      <button class=\"colab-df-convert\" onclick=\"convertToInteractive('df-6fe78601-57d5-470e-a859-7becd143b231')\"\n",
              "              title=\"Convert this dataframe to an interactive table.\"\n",
              "              style=\"display:none;\">\n",
              "        \n",
              "  <svg xmlns=\"http://www.w3.org/2000/svg\" height=\"24px\"viewBox=\"0 0 24 24\"\n",
              "       width=\"24px\">\n",
              "    <path d=\"M0 0h24v24H0V0z\" fill=\"none\"/>\n",
              "    <path d=\"M18.56 5.44l.94 2.06.94-2.06 2.06-.94-2.06-.94-.94-2.06-.94 2.06-2.06.94zm-11 1L8.5 8.5l.94-2.06 2.06-.94-2.06-.94L8.5 2.5l-.94 2.06-2.06.94zm10 10l.94 2.06.94-2.06 2.06-.94-2.06-.94-.94-2.06-.94 2.06-2.06.94z\"/><path d=\"M17.41 7.96l-1.37-1.37c-.4-.4-.92-.59-1.43-.59-.52 0-1.04.2-1.43.59L10.3 9.45l-7.72 7.72c-.78.78-.78 2.05 0 2.83L4 21.41c.39.39.9.59 1.41.59.51 0 1.02-.2 1.41-.59l7.78-7.78 2.81-2.81c.8-.78.8-2.07 0-2.86zM5.41 20L4 18.59l7.72-7.72 1.47 1.35L5.41 20z\"/>\n",
              "  </svg>\n",
              "      </button>\n",
              "      \n",
              "  <style>\n",
              "    .colab-df-container {\n",
              "      display:flex;\n",
              "      flex-wrap:wrap;\n",
              "      gap: 12px;\n",
              "    }\n",
              "\n",
              "    .colab-df-convert {\n",
              "      background-color: #E8F0FE;\n",
              "      border: none;\n",
              "      border-radius: 50%;\n",
              "      cursor: pointer;\n",
              "      display: none;\n",
              "      fill: #1967D2;\n",
              "      height: 32px;\n",
              "      padding: 0 0 0 0;\n",
              "      width: 32px;\n",
              "    }\n",
              "\n",
              "    .colab-df-convert:hover {\n",
              "      background-color: #E2EBFA;\n",
              "      box-shadow: 0px 1px 2px rgba(60, 64, 67, 0.3), 0px 1px 3px 1px rgba(60, 64, 67, 0.15);\n",
              "      fill: #174EA6;\n",
              "    }\n",
              "\n",
              "    [theme=dark] .colab-df-convert {\n",
              "      background-color: #3B4455;\n",
              "      fill: #D2E3FC;\n",
              "    }\n",
              "\n",
              "    [theme=dark] .colab-df-convert:hover {\n",
              "      background-color: #434B5C;\n",
              "      box-shadow: 0px 1px 3px 1px rgba(0, 0, 0, 0.15);\n",
              "      filter: drop-shadow(0px 1px 2px rgba(0, 0, 0, 0.3));\n",
              "      fill: #FFFFFF;\n",
              "    }\n",
              "  </style>\n",
              "\n",
              "      <script>\n",
              "        const buttonEl =\n",
              "          document.querySelector('#df-6fe78601-57d5-470e-a859-7becd143b231 button.colab-df-convert');\n",
              "        buttonEl.style.display =\n",
              "          google.colab.kernel.accessAllowed ? 'block' : 'none';\n",
              "\n",
              "        async function convertToInteractive(key) {\n",
              "          const element = document.querySelector('#df-6fe78601-57d5-470e-a859-7becd143b231');\n",
              "          const dataTable =\n",
              "            await google.colab.kernel.invokeFunction('convertToInteractive',\n",
              "                                                     [key], {});\n",
              "          if (!dataTable) return;\n",
              "\n",
              "          const docLinkHtml = 'Like what you see? Visit the ' +\n",
              "            '<a target=\"_blank\" href=https://colab.research.google.com/notebooks/data_table.ipynb>data table notebook</a>'\n",
              "            + ' to learn more about interactive tables.';\n",
              "          element.innerHTML = '';\n",
              "          dataTable['output_type'] = 'display_data';\n",
              "          await google.colab.output.renderOutput(dataTable, element);\n",
              "          const docLink = document.createElement('div');\n",
              "          docLink.innerHTML = docLinkHtml;\n",
              "          element.appendChild(docLink);\n",
              "        }\n",
              "      </script>\n",
              "    </div>\n",
              "  </div>\n",
              "  "
            ]
          },
          "metadata": {},
          "execution_count": 43
        }
      ]
    },
    {
      "cell_type": "code",
      "source": [
        "X=df.iloc[:,2:5]\n",
        "X"
      ],
      "metadata": {
        "colab": {
          "base_uri": "https://localhost:8080/",
          "height": 423
        },
        "id": "eQopvPc2VXNs",
        "outputId": "cbe82f47-1a94-4b28-9bb7-9635cc4611d3"
      },
      "execution_count": 44,
      "outputs": [
        {
          "output_type": "execute_result",
          "data": {
            "text/plain": [
              "     petal length (cm)  petal width (cm)  target\n",
              "0                  1.4               0.2       0\n",
              "1                  1.4               0.2       0\n",
              "2                  1.3               0.2       0\n",
              "3                  1.5               0.2       0\n",
              "4                  1.4               0.2       0\n",
              "..                 ...               ...     ...\n",
              "145                5.2               2.3       2\n",
              "146                5.0               1.9       2\n",
              "147                5.2               2.0       2\n",
              "148                5.4               2.3       2\n",
              "149                5.1               1.8       2\n",
              "\n",
              "[150 rows x 3 columns]"
            ],
            "text/html": [
              "\n",
              "  <div id=\"df-b6170566-bf70-4dda-9406-995060f3a9cd\">\n",
              "    <div class=\"colab-df-container\">\n",
              "      <div>\n",
              "<style scoped>\n",
              "    .dataframe tbody tr th:only-of-type {\n",
              "        vertical-align: middle;\n",
              "    }\n",
              "\n",
              "    .dataframe tbody tr th {\n",
              "        vertical-align: top;\n",
              "    }\n",
              "\n",
              "    .dataframe thead th {\n",
              "        text-align: right;\n",
              "    }\n",
              "</style>\n",
              "<table border=\"1\" class=\"dataframe\">\n",
              "  <thead>\n",
              "    <tr style=\"text-align: right;\">\n",
              "      <th></th>\n",
              "      <th>petal length (cm)</th>\n",
              "      <th>petal width (cm)</th>\n",
              "      <th>target</th>\n",
              "    </tr>\n",
              "  </thead>\n",
              "  <tbody>\n",
              "    <tr>\n",
              "      <th>0</th>\n",
              "      <td>1.4</td>\n",
              "      <td>0.2</td>\n",
              "      <td>0</td>\n",
              "    </tr>\n",
              "    <tr>\n",
              "      <th>1</th>\n",
              "      <td>1.4</td>\n",
              "      <td>0.2</td>\n",
              "      <td>0</td>\n",
              "    </tr>\n",
              "    <tr>\n",
              "      <th>2</th>\n",
              "      <td>1.3</td>\n",
              "      <td>0.2</td>\n",
              "      <td>0</td>\n",
              "    </tr>\n",
              "    <tr>\n",
              "      <th>3</th>\n",
              "      <td>1.5</td>\n",
              "      <td>0.2</td>\n",
              "      <td>0</td>\n",
              "    </tr>\n",
              "    <tr>\n",
              "      <th>4</th>\n",
              "      <td>1.4</td>\n",
              "      <td>0.2</td>\n",
              "      <td>0</td>\n",
              "    </tr>\n",
              "    <tr>\n",
              "      <th>...</th>\n",
              "      <td>...</td>\n",
              "      <td>...</td>\n",
              "      <td>...</td>\n",
              "    </tr>\n",
              "    <tr>\n",
              "      <th>145</th>\n",
              "      <td>5.2</td>\n",
              "      <td>2.3</td>\n",
              "      <td>2</td>\n",
              "    </tr>\n",
              "    <tr>\n",
              "      <th>146</th>\n",
              "      <td>5.0</td>\n",
              "      <td>1.9</td>\n",
              "      <td>2</td>\n",
              "    </tr>\n",
              "    <tr>\n",
              "      <th>147</th>\n",
              "      <td>5.2</td>\n",
              "      <td>2.0</td>\n",
              "      <td>2</td>\n",
              "    </tr>\n",
              "    <tr>\n",
              "      <th>148</th>\n",
              "      <td>5.4</td>\n",
              "      <td>2.3</td>\n",
              "      <td>2</td>\n",
              "    </tr>\n",
              "    <tr>\n",
              "      <th>149</th>\n",
              "      <td>5.1</td>\n",
              "      <td>1.8</td>\n",
              "      <td>2</td>\n",
              "    </tr>\n",
              "  </tbody>\n",
              "</table>\n",
              "<p>150 rows × 3 columns</p>\n",
              "</div>\n",
              "      <button class=\"colab-df-convert\" onclick=\"convertToInteractive('df-b6170566-bf70-4dda-9406-995060f3a9cd')\"\n",
              "              title=\"Convert this dataframe to an interactive table.\"\n",
              "              style=\"display:none;\">\n",
              "        \n",
              "  <svg xmlns=\"http://www.w3.org/2000/svg\" height=\"24px\"viewBox=\"0 0 24 24\"\n",
              "       width=\"24px\">\n",
              "    <path d=\"M0 0h24v24H0V0z\" fill=\"none\"/>\n",
              "    <path d=\"M18.56 5.44l.94 2.06.94-2.06 2.06-.94-2.06-.94-.94-2.06-.94 2.06-2.06.94zm-11 1L8.5 8.5l.94-2.06 2.06-.94-2.06-.94L8.5 2.5l-.94 2.06-2.06.94zm10 10l.94 2.06.94-2.06 2.06-.94-2.06-.94-.94-2.06-.94 2.06-2.06.94z\"/><path d=\"M17.41 7.96l-1.37-1.37c-.4-.4-.92-.59-1.43-.59-.52 0-1.04.2-1.43.59L10.3 9.45l-7.72 7.72c-.78.78-.78 2.05 0 2.83L4 21.41c.39.39.9.59 1.41.59.51 0 1.02-.2 1.41-.59l7.78-7.78 2.81-2.81c.8-.78.8-2.07 0-2.86zM5.41 20L4 18.59l7.72-7.72 1.47 1.35L5.41 20z\"/>\n",
              "  </svg>\n",
              "      </button>\n",
              "      \n",
              "  <style>\n",
              "    .colab-df-container {\n",
              "      display:flex;\n",
              "      flex-wrap:wrap;\n",
              "      gap: 12px;\n",
              "    }\n",
              "\n",
              "    .colab-df-convert {\n",
              "      background-color: #E8F0FE;\n",
              "      border: none;\n",
              "      border-radius: 50%;\n",
              "      cursor: pointer;\n",
              "      display: none;\n",
              "      fill: #1967D2;\n",
              "      height: 32px;\n",
              "      padding: 0 0 0 0;\n",
              "      width: 32px;\n",
              "    }\n",
              "\n",
              "    .colab-df-convert:hover {\n",
              "      background-color: #E2EBFA;\n",
              "      box-shadow: 0px 1px 2px rgba(60, 64, 67, 0.3), 0px 1px 3px 1px rgba(60, 64, 67, 0.15);\n",
              "      fill: #174EA6;\n",
              "    }\n",
              "\n",
              "    [theme=dark] .colab-df-convert {\n",
              "      background-color: #3B4455;\n",
              "      fill: #D2E3FC;\n",
              "    }\n",
              "\n",
              "    [theme=dark] .colab-df-convert:hover {\n",
              "      background-color: #434B5C;\n",
              "      box-shadow: 0px 1px 3px 1px rgba(0, 0, 0, 0.15);\n",
              "      filter: drop-shadow(0px 1px 2px rgba(0, 0, 0, 0.3));\n",
              "      fill: #FFFFFF;\n",
              "    }\n",
              "  </style>\n",
              "\n",
              "      <script>\n",
              "        const buttonEl =\n",
              "          document.querySelector('#df-b6170566-bf70-4dda-9406-995060f3a9cd button.colab-df-convert');\n",
              "        buttonEl.style.display =\n",
              "          google.colab.kernel.accessAllowed ? 'block' : 'none';\n",
              "\n",
              "        async function convertToInteractive(key) {\n",
              "          const element = document.querySelector('#df-b6170566-bf70-4dda-9406-995060f3a9cd');\n",
              "          const dataTable =\n",
              "            await google.colab.kernel.invokeFunction('convertToInteractive',\n",
              "                                                     [key], {});\n",
              "          if (!dataTable) return;\n",
              "\n",
              "          const docLinkHtml = 'Like what you see? Visit the ' +\n",
              "            '<a target=\"_blank\" href=https://colab.research.google.com/notebooks/data_table.ipynb>data table notebook</a>'\n",
              "            + ' to learn more about interactive tables.';\n",
              "          element.innerHTML = '';\n",
              "          dataTable['output_type'] = 'display_data';\n",
              "          await google.colab.output.renderOutput(dataTable, element);\n",
              "          const docLink = document.createElement('div');\n",
              "          docLink.innerHTML = docLinkHtml;\n",
              "          element.appendChild(docLink);\n",
              "        }\n",
              "      </script>\n",
              "    </div>\n",
              "  </div>\n",
              "  "
            ]
          },
          "metadata": {},
          "execution_count": 44
        }
      ]
    },
    {
      "cell_type": "code",
      "source": [
        "import nltk # Python library for NLP\n",
        "from nltk.corpus import twitter_samples # sample Twitter dataset from NLTK\n",
        "import matplotlib.pyplot as plt # library for visualization\n",
        "import random\n",
        "nltk.download('punkt')\n"
      ],
      "metadata": {
        "colab": {
          "base_uri": "https://localhost:8080/"
        },
        "id": "Q3UMJEvtWw1f",
        "outputId": "dca97c31-fba4-423d-ba8e-a6dcdf4a1356"
      },
      "execution_count": 47,
      "outputs": [
        {
          "output_type": "stream",
          "name": "stderr",
          "text": [
            "[nltk_data] Downloading package punkt to /root/nltk_data...\n",
            "[nltk_data]   Unzipping tokenizers/punkt.zip.\n"
          ]
        },
        {
          "output_type": "execute_result",
          "data": {
            "text/plain": [
              "True"
            ]
          },
          "metadata": {},
          "execution_count": 47
        }
      ]
    },
    {
      "cell_type": "code",
      "source": [
        "paragraph=\"\"\"\n",
        "I have three visions for India. beautiful In 3000 years of our history people from all over the world have come and invaded us, captured our lands, conquered our minds. From Alexander onwards the Greeks, the Turks, the Moguls, the Portuguese, the British, the French, the Dutch, all of them came and looted us, took over what was ours. Yet we have not done this to any other nation. We have not conquered anyone. We have not grabbed their land, their culture and their history and tried to enforce our way of life on them. Why? Because we respect the freedom of others. That is why my FIRST VISION is that of FREEDOM. I believe that India got its first vision of this in 1857, when we started the war of Independence. It is this freedom that we must protect and nurture and build on. If we are not free, no one will respect us.\n",
        "\n",
        "We have 10 percent growth rate in most areas. Our poverty levels are falling. Our achievements are being globally recognised today. Yet we lack the self-confidence to see ourselves as a developed nation, self-reliant and self-assured. Isn’t this incorrect? MY SECOND VISION for India is DEVELOPMENT. For fifty years we have been a developing nation. It is time we see ourselves as a developed nation. We are among top five nations in the world in terms of GDP.\n",
        "\n",
        "I have a THIRD VISION. India must stand up to the world. Because I believe that unless India stands up to the world, no one will respect us. Only strength respects strength. We must be strong not only as a military power but also as an economic power. Both must go hand-in-hand. My good fortune was to have worked with three great minds. Dr.Vikram Sarabhai, of the Dept. of Space, Professor Satish Dhawan, who succeeded him and Dr. Brahm Prakash, father of nuclear material. I was lucky to have worked with all three of them closely and consider this the great opportunity of my life.\n",
        "\"\"\"\n",
        "     "
      ],
      "metadata": {
        "id": "GFInADsJXjLx"
      },
      "execution_count": 49,
      "outputs": []
    },
    {
      "cell_type": "code",
      "source": [
        "sentences=nltk.sent_tokenize(paragraph)\n",
        "\n",
        "print(sentences)"
      ],
      "metadata": {
        "colab": {
          "base_uri": "https://localhost:8080/"
        },
        "id": "bIeNzpLwXmel",
        "outputId": "b047db33-d827-41ef-e20f-ff1b20566593"
      },
      "execution_count": 50,
      "outputs": [
        {
          "output_type": "stream",
          "name": "stdout",
          "text": [
            "['\\nI have three visions for India.', 'beautiful In 3000 years of our history people from all over the world have come and invaded us, captured our lands, conquered our minds.', 'From Alexander onwards the Greeks, the Turks, the Moguls, the Portuguese, the British, the French, the Dutch, all of them came and looted us, took over what was ours.', 'Yet we have not done this to any other nation.', 'We have not conquered anyone.', 'We have not grabbed their land, their culture and their history and tried to enforce our way of life on them.', 'Why?', 'Because we respect the freedom of others.', 'That is why my FIRST VISION is that of FREEDOM.', 'I believe that India got its first vision of this in 1857, when we started the war of Independence.', 'It is this freedom that we must protect and nurture and build on.', 'If we are not free, no one will respect us.', 'We have 10 percent growth rate in most areas.', 'Our poverty levels are falling.', 'Our achievements are being globally recognised today.', 'Yet we lack the self-confidence to see ourselves as a developed nation, self-reliant and self-assured.', 'Isn’t this incorrect?', 'MY SECOND VISION for India is DEVELOPMENT.', 'For fifty years we have been a developing nation.', 'It is time we see ourselves as a developed nation.', 'We are among top five nations in the world in terms of GDP.', 'I have a THIRD VISION.', 'India must stand up to the world.', 'Because I believe that unless India stands up to the world, no one will respect us.', 'Only strength respects strength.', 'We must be strong not only as a military power but also as an economic power.', 'Both must go hand-in-hand.', 'My good fortune was to have worked with three great minds.', 'Dr.Vikram Sarabhai, of the Dept.', 'of Space, Professor Satish Dhawan, who succeeded him and Dr. Brahm Prakash, father of nuclear material.', 'I was lucky to have worked with all three of them closely and consider this the great opportunity of my life.']\n"
          ]
        }
      ]
    },
    {
      "cell_type": "code",
      "source": [
        "word=nltk.word_tokenize(paragraph)\n",
        "\n",
        "print(word)"
      ],
      "metadata": {
        "colab": {
          "base_uri": "https://localhost:8080/"
        },
        "id": "No3Dr_6WX0mA",
        "outputId": "782539c5-b7a9-4856-b663-b2daffba3642"
      },
      "execution_count": 51,
      "outputs": [
        {
          "output_type": "stream",
          "name": "stdout",
          "text": [
            "['I', 'have', 'three', 'visions', 'for', 'India', '.', 'beautiful', 'In', '3000', 'years', 'of', 'our', 'history', 'people', 'from', 'all', 'over', 'the', 'world', 'have', 'come', 'and', 'invaded', 'us', ',', 'captured', 'our', 'lands', ',', 'conquered', 'our', 'minds', '.', 'From', 'Alexander', 'onwards', 'the', 'Greeks', ',', 'the', 'Turks', ',', 'the', 'Moguls', ',', 'the', 'Portuguese', ',', 'the', 'British', ',', 'the', 'French', ',', 'the', 'Dutch', ',', 'all', 'of', 'them', 'came', 'and', 'looted', 'us', ',', 'took', 'over', 'what', 'was', 'ours', '.', 'Yet', 'we', 'have', 'not', 'done', 'this', 'to', 'any', 'other', 'nation', '.', 'We', 'have', 'not', 'conquered', 'anyone', '.', 'We', 'have', 'not', 'grabbed', 'their', 'land', ',', 'their', 'culture', 'and', 'their', 'history', 'and', 'tried', 'to', 'enforce', 'our', 'way', 'of', 'life', 'on', 'them', '.', 'Why', '?', 'Because', 'we', 'respect', 'the', 'freedom', 'of', 'others', '.', 'That', 'is', 'why', 'my', 'FIRST', 'VISION', 'is', 'that', 'of', 'FREEDOM', '.', 'I', 'believe', 'that', 'India', 'got', 'its', 'first', 'vision', 'of', 'this', 'in', '1857', ',', 'when', 'we', 'started', 'the', 'war', 'of', 'Independence', '.', 'It', 'is', 'this', 'freedom', 'that', 'we', 'must', 'protect', 'and', 'nurture', 'and', 'build', 'on', '.', 'If', 'we', 'are', 'not', 'free', ',', 'no', 'one', 'will', 'respect', 'us', '.', 'We', 'have', '10', 'percent', 'growth', 'rate', 'in', 'most', 'areas', '.', 'Our', 'poverty', 'levels', 'are', 'falling', '.', 'Our', 'achievements', 'are', 'being', 'globally', 'recognised', 'today', '.', 'Yet', 'we', 'lack', 'the', 'self-confidence', 'to', 'see', 'ourselves', 'as', 'a', 'developed', 'nation', ',', 'self-reliant', 'and', 'self-assured', '.', 'Isn', '’', 't', 'this', 'incorrect', '?', 'MY', 'SECOND', 'VISION', 'for', 'India', 'is', 'DEVELOPMENT', '.', 'For', 'fifty', 'years', 'we', 'have', 'been', 'a', 'developing', 'nation', '.', 'It', 'is', 'time', 'we', 'see', 'ourselves', 'as', 'a', 'developed', 'nation', '.', 'We', 'are', 'among', 'top', 'five', 'nations', 'in', 'the', 'world', 'in', 'terms', 'of', 'GDP', '.', 'I', 'have', 'a', 'THIRD', 'VISION', '.', 'India', 'must', 'stand', 'up', 'to', 'the', 'world', '.', 'Because', 'I', 'believe', 'that', 'unless', 'India', 'stands', 'up', 'to', 'the', 'world', ',', 'no', 'one', 'will', 'respect', 'us', '.', 'Only', 'strength', 'respects', 'strength', '.', 'We', 'must', 'be', 'strong', 'not', 'only', 'as', 'a', 'military', 'power', 'but', 'also', 'as', 'an', 'economic', 'power', '.', 'Both', 'must', 'go', 'hand-in-hand', '.', 'My', 'good', 'fortune', 'was', 'to', 'have', 'worked', 'with', 'three', 'great', 'minds', '.', 'Dr.Vikram', 'Sarabhai', ',', 'of', 'the', 'Dept', '.', 'of', 'Space', ',', 'Professor', 'Satish', 'Dhawan', ',', 'who', 'succeeded', 'him', 'and', 'Dr.', 'Brahm', 'Prakash', ',', 'father', 'of', 'nuclear', 'material', '.', 'I', 'was', 'lucky', 'to', 'have', 'worked', 'with', 'all', 'three', 'of', 'them', 'closely', 'and', 'consider', 'this', 'the', 'great', 'opportunity', 'of', 'my', 'life', '.']\n"
          ]
        }
      ]
    },
    {
      "cell_type": "code",
      "source": [
        "# Remove stop words and punctuations\n",
        "nltk.download('stopwords')"
      ],
      "metadata": {
        "colab": {
          "base_uri": "https://localhost:8080/"
        },
        "id": "l984lqPPX_-q",
        "outputId": "b2a699a2-b36b-49be-8ad4-62712e3f046d"
      },
      "execution_count": 52,
      "outputs": [
        {
          "output_type": "stream",
          "name": "stderr",
          "text": [
            "[nltk_data] Downloading package stopwords to /root/nltk_data...\n",
            "[nltk_data]   Unzipping corpora/stopwords.zip.\n"
          ]
        },
        {
          "output_type": "execute_result",
          "data": {
            "text/plain": [
              "True"
            ]
          },
          "metadata": {},
          "execution_count": 52
        }
      ]
    },
    {
      "cell_type": "code",
      "source": [
        "import re\n",
        "import string # for string operations\n",
        "from nltk.corpus import stopwords # module for stop words that come␣\n",
        "\n",
        "from nltk.stem import PorterStemmer # module for stemming\n",
        "from nltk.tokenize import TweetTokenizer # module for tokenizing strings\n",
        "from nltk.stem import WordNetLemmatizer\n",
        "\n",
        "stopwords_english = stopwords.words('english')\n",
        "print('Stop words\\n')\n",
        "print(stopwords_english)\n",
        "print('\\nPunctuation\\n')\n",
        "print(string.punctuation)"
      ],
      "metadata": {
        "colab": {
          "base_uri": "https://localhost:8080/"
        },
        "id": "PTEFxvVoYGp7",
        "outputId": "e728a26c-885b-475e-9dea-eb56c90781b8"
      },
      "execution_count": 53,
      "outputs": [
        {
          "output_type": "stream",
          "name": "stdout",
          "text": [
            "Stop words\n",
            "\n",
            "['i', 'me', 'my', 'myself', 'we', 'our', 'ours', 'ourselves', 'you', \"you're\", \"you've\", \"you'll\", \"you'd\", 'your', 'yours', 'yourself', 'yourselves', 'he', 'him', 'his', 'himself', 'she', \"she's\", 'her', 'hers', 'herself', 'it', \"it's\", 'its', 'itself', 'they', 'them', 'their', 'theirs', 'themselves', 'what', 'which', 'who', 'whom', 'this', 'that', \"that'll\", 'these', 'those', 'am', 'is', 'are', 'was', 'were', 'be', 'been', 'being', 'have', 'has', 'had', 'having', 'do', 'does', 'did', 'doing', 'a', 'an', 'the', 'and', 'but', 'if', 'or', 'because', 'as', 'until', 'while', 'of', 'at', 'by', 'for', 'with', 'about', 'against', 'between', 'into', 'through', 'during', 'before', 'after', 'above', 'below', 'to', 'from', 'up', 'down', 'in', 'out', 'on', 'off', 'over', 'under', 'again', 'further', 'then', 'once', 'here', 'there', 'when', 'where', 'why', 'how', 'all', 'any', 'both', 'each', 'few', 'more', 'most', 'other', 'some', 'such', 'no', 'nor', 'not', 'only', 'own', 'same', 'so', 'than', 'too', 'very', 's', 't', 'can', 'will', 'just', 'don', \"don't\", 'should', \"should've\", 'now', 'd', 'll', 'm', 'o', 're', 've', 'y', 'ain', 'aren', \"aren't\", 'couldn', \"couldn't\", 'didn', \"didn't\", 'doesn', \"doesn't\", 'hadn', \"hadn't\", 'hasn', \"hasn't\", 'haven', \"haven't\", 'isn', \"isn't\", 'ma', 'mightn', \"mightn't\", 'mustn', \"mustn't\", 'needn', \"needn't\", 'shan', \"shan't\", 'shouldn', \"shouldn't\", 'wasn', \"wasn't\", 'weren', \"weren't\", 'won', \"won't\", 'wouldn', \"wouldn't\"]\n",
            "\n",
            "Punctuation\n",
            "\n",
            "!\"#$%&'()*+,-./:;<=>?@[\\]^_`{|}~\n"
          ]
        }
      ]
    },
    {
      "cell_type": "code",
      "source": [
        "word_clean = []\n",
        "word=nltk.word_tokenize(paragraph)\n",
        "for x in word:\n",
        "  if (x not in stopwords_english and x not in string.punctuation): # remove punctuation\n",
        "      word_clean.append(x)\n",
        "   # Go through every word in your tokens list\n",
        "\n",
        "print('removed stop words and punctuation:')\n",
        "print(word_clean)"
      ],
      "metadata": {
        "colab": {
          "base_uri": "https://localhost:8080/"
        },
        "id": "qOUyBzEDYWjD",
        "outputId": "b2f3795a-9b00-419b-d1ba-2fa6a56fb7f9"
      },
      "execution_count": 54,
      "outputs": [
        {
          "output_type": "stream",
          "name": "stdout",
          "text": [
            "removed stop words and punctuation:\n",
            "['I', 'three', 'visions', 'India', 'beautiful', 'In', '3000', 'years', 'history', 'people', 'world', 'come', 'invaded', 'us', 'captured', 'lands', 'conquered', 'minds', 'From', 'Alexander', 'onwards', 'Greeks', 'Turks', 'Moguls', 'Portuguese', 'British', 'French', 'Dutch', 'came', 'looted', 'us', 'took', 'Yet', 'done', 'nation', 'We', 'conquered', 'anyone', 'We', 'grabbed', 'land', 'culture', 'history', 'tried', 'enforce', 'way', 'life', 'Why', 'Because', 'respect', 'freedom', 'others', 'That', 'FIRST', 'VISION', 'FREEDOM', 'I', 'believe', 'India', 'got', 'first', 'vision', '1857', 'started', 'war', 'Independence', 'It', 'freedom', 'must', 'protect', 'nurture', 'build', 'If', 'free', 'one', 'respect', 'us', 'We', '10', 'percent', 'growth', 'rate', 'areas', 'Our', 'poverty', 'levels', 'falling', 'Our', 'achievements', 'globally', 'recognised', 'today', 'Yet', 'lack', 'self-confidence', 'see', 'developed', 'nation', 'self-reliant', 'self-assured', 'Isn', '’', 'incorrect', 'MY', 'SECOND', 'VISION', 'India', 'DEVELOPMENT', 'For', 'fifty', 'years', 'developing', 'nation', 'It', 'time', 'see', 'developed', 'nation', 'We', 'among', 'top', 'five', 'nations', 'world', 'terms', 'GDP', 'I', 'THIRD', 'VISION', 'India', 'must', 'stand', 'world', 'Because', 'I', 'believe', 'unless', 'India', 'stands', 'world', 'one', 'respect', 'us', 'Only', 'strength', 'respects', 'strength', 'We', 'must', 'strong', 'military', 'power', 'also', 'economic', 'power', 'Both', 'must', 'go', 'hand-in-hand', 'My', 'good', 'fortune', 'worked', 'three', 'great', 'minds', 'Dr.Vikram', 'Sarabhai', 'Dept', 'Space', 'Professor', 'Satish', 'Dhawan', 'succeeded', 'Dr.', 'Brahm', 'Prakash', 'father', 'nuclear', 'material', 'I', 'lucky', 'worked', 'three', 'closely', 'consider', 'great', 'opportunity', 'life']\n"
          ]
        }
      ]
    },
    {
      "cell_type": "markdown",
      "source": [
        "**STENNING**\n",
        "\n",
        "---\n",
        "\n"
      ],
      "metadata": {
        "id": "TxEk6HvOYa50"
      }
    },
    {
      "cell_type": "code",
      "source": [
        "from nltk.stem import PorterStemmer\n",
        "from nltk.tokenize import word_tokenize\n",
        "     \n",
        "\n",
        "stemmer=PorterStemmer()\n",
        "     \n",
        "\n",
        "paragraph=\"\"\"Pythoners are very intelligent and work very pythonly and now they are pythoning their way to success.\"\"\"\n",
        "     \n",
        "\n",
        "word=nltk.word_tokenize(paragraph)\n",
        "     \n",
        "\n",
        "word\n",
        "     "
      ],
      "metadata": {
        "colab": {
          "base_uri": "https://localhost:8080/"
        },
        "id": "ICcCFOS0YfME",
        "outputId": "45cf3a4b-c4c4-4f54-f78e-2a6689ed7910"
      },
      "execution_count": 55,
      "outputs": [
        {
          "output_type": "execute_result",
          "data": {
            "text/plain": [
              "['Pythoners',\n",
              " 'are',\n",
              " 'very',\n",
              " 'intelligent',\n",
              " 'and',\n",
              " 'work',\n",
              " 'very',\n",
              " 'pythonly',\n",
              " 'and',\n",
              " 'now',\n",
              " 'they',\n",
              " 'are',\n",
              " 'pythoning',\n",
              " 'their',\n",
              " 'way',\n",
              " 'to',\n",
              " 'success',\n",
              " '.']"
            ]
          },
          "metadata": {},
          "execution_count": 55
        }
      ]
    },
    {
      "cell_type": "code",
      "source": [
        "\n",
        "steam_clean=[]\n",
        "for x in word:\n",
        "  steam_word=stemmer.stem(x)\n",
        "  steam_clean.append(steam_word)\n",
        "\n",
        "steam_clean"
      ],
      "metadata": {
        "colab": {
          "base_uri": "https://localhost:8080/"
        },
        "id": "6TByntpRYn7l",
        "outputId": "367acb5b-35b0-49be-8bcd-26e9f04f31ce"
      },
      "execution_count": 58,
      "outputs": [
        {
          "output_type": "execute_result",
          "data": {
            "text/plain": [
              "['python',\n",
              " 'are',\n",
              " 'veri',\n",
              " 'intellig',\n",
              " 'and',\n",
              " 'work',\n",
              " 'veri',\n",
              " 'pythonli',\n",
              " 'and',\n",
              " 'now',\n",
              " 'they',\n",
              " 'are',\n",
              " 'python',\n",
              " 'their',\n",
              " 'way',\n",
              " 'to',\n",
              " 'success',\n",
              " '.']"
            ]
          },
          "metadata": {},
          "execution_count": 58
        }
      ]
    },
    {
      "cell_type": "code",
      "source": [
        "\n",
        "words =['happier','happiness','happy','studying','study','studies','meeting']\n",
        "\n",
        "\n",
        "steam_clean2=[]\n",
        "for word in words:\n",
        "  stem_word=stemmer.stem(word)\n",
        "  steam_clean2.append(stem_word)\n",
        "\n",
        "steam_clean2"
      ],
      "metadata": {
        "colab": {
          "base_uri": "https://localhost:8080/"
        },
        "id": "tnr2JwWMY7F8",
        "outputId": "82f5bf89-2eac-45ee-fb6d-53127df69246"
      },
      "execution_count": 59,
      "outputs": [
        {
          "output_type": "execute_result",
          "data": {
            "text/plain": [
              "['happier', 'happi', 'happi', 'studi', 'studi', 'studi', 'meet']"
            ]
          },
          "metadata": {},
          "execution_count": 59
        }
      ]
    },
    {
      "cell_type": "code",
      "source": [
        "\n",
        "from nltk.stem import WordNetLemmatizer\n",
        "     \n",
        "\n",
        "nltk.download('wordnet')"
      ],
      "metadata": {
        "colab": {
          "base_uri": "https://localhost:8080/"
        },
        "id": "Nu5qBjr8ZGFW",
        "outputId": "8b60081d-75f1-499b-e751-352b5abe30d3"
      },
      "execution_count": 60,
      "outputs": [
        {
          "output_type": "stream",
          "name": "stderr",
          "text": [
            "[nltk_data] Downloading package wordnet to /root/nltk_data...\n"
          ]
        },
        {
          "output_type": "execute_result",
          "data": {
            "text/plain": [
              "True"
            ]
          },
          "metadata": {},
          "execution_count": 60
        }
      ]
    },
    {
      "cell_type": "code",
      "source": [
        "\n",
        "wordnet_lemmatizer = WordNetLemmatizer()\n",
        "nltk.download('omw-1.4')"
      ],
      "metadata": {
        "colab": {
          "base_uri": "https://localhost:8080/"
        },
        "id": "UIjBNdKTZLmj",
        "outputId": "a1cf885c-40ba-49ec-f27e-ce3ef55c3145"
      },
      "execution_count": 61,
      "outputs": [
        {
          "output_type": "stream",
          "name": "stderr",
          "text": [
            "[nltk_data] Downloading package omw-1.4 to /root/nltk_data...\n"
          ]
        },
        {
          "output_type": "execute_result",
          "data": {
            "text/plain": [
              "True"
            ]
          },
          "metadata": {},
          "execution_count": 61
        }
      ]
    },
    {
      "cell_type": "code",
      "source": [
        "\n",
        "x_lem = []\n",
        "for word in words:\n",
        "  lem_words = wordnet_lemmatizer.lemmatize(word)# stemming word\n",
        "  x_lem.append(lem_words) #\n",
        "     \n",
        "\n",
        "x_lem"
      ],
      "metadata": {
        "colab": {
          "base_uri": "https://localhost:8080/"
        },
        "id": "mTAcakQaZZhT",
        "outputId": "0656e9b3-1afa-4def-c133-0c8acb48301d"
      },
      "execution_count": 62,
      "outputs": [
        {
          "output_type": "execute_result",
          "data": {
            "text/plain": [
              "['happier', 'happiness', 'happy', 'studying', 'study', 'study', 'meeting']"
            ]
          },
          "metadata": {},
          "execution_count": 62
        }
      ]
    },
    {
      "cell_type": "code",
      "source": [
        "paragraph=\"\"\"\n",
        "I have three visions for India. beautiful In 3000 years of our history people from all over the world have come and invaded us, captured our lands, conquered our minds. From Alexander onwards the Greeks, the Turks, the Moguls, the Portuguese, the British, the French, the Dutch, all of them came and looted us, took over what was ours. Yet we have not done this to any other nation. We have not conquered anyone. We have not grabbed their land, their culture and their history and tried to enforce our way of life on them. Why? Because we respect the freedom of others. That is why my FIRST VISION is that of FREEDOM. I believe that India got its first vision of this in 1857, when we started the war of Independence. It is this freedom that we must protect and nurture and build on. If we are not free, no one will respect us.\n",
        "\n",
        "We have 10 percent growth rate in most areas. Our poverty levels are falling. Our achievements are being globally recognised today. Yet we lack the self-confidence to see ourselves as a developed nation, self-reliant and self-assured. Isn’t this incorrect? MY SECOND VISION for India is DEVELOPMENT. For fifty years we have been a developing nation. It is time we see ourselves as a developed nation. We are among top five nations in the world in terms of GDP.\n",
        "\n",
        "I have a THIRD VISION. India must stand up to the world. Because I believe that unless India stands up to the world, no one will respect us. Only strength respects strength. We must be strong not only as a military power but also as an economic power. Both must go hand-in-hand. My good fortune was to have worked with three great minds. Dr.Vikram Sarabhai, of the Dept. of Space, Professor Satish Dhawan, who succeeded him and Dr. Brahm Prakash, father of nuclear material. I was lucky to have worked with all three of them closely and consider this the great opportunity of my life.\n",
        "\"\"\""
      ],
      "metadata": {
        "id": "JknRBIYLZf30"
      },
      "execution_count": 63,
      "outputs": []
    },
    {
      "cell_type": "code",
      "source": [
        "\n",
        "word=nltk.word_tokenize(paragraph)\n",
        "     \n",
        "\n",
        "x_lem = []\n",
        "for x in word:\n",
        "  lem_words = wordnet_lemmatizer.lemmatize(x)# stemming word\n",
        "  x_lem.append(lem_words)\n",
        "     \n",
        "\n",
        "x_lem"
      ],
      "metadata": {
        "colab": {
          "base_uri": "https://localhost:8080/"
        },
        "id": "ey5ndfSOZk4F",
        "outputId": "f9ccc033-6471-4226-fb96-b758d9bd931c"
      },
      "execution_count": 64,
      "outputs": [
        {
          "output_type": "execute_result",
          "data": {
            "text/plain": [
              "['I',\n",
              " 'have',\n",
              " 'three',\n",
              " 'vision',\n",
              " 'for',\n",
              " 'India',\n",
              " '.',\n",
              " 'beautiful',\n",
              " 'In',\n",
              " '3000',\n",
              " 'year',\n",
              " 'of',\n",
              " 'our',\n",
              " 'history',\n",
              " 'people',\n",
              " 'from',\n",
              " 'all',\n",
              " 'over',\n",
              " 'the',\n",
              " 'world',\n",
              " 'have',\n",
              " 'come',\n",
              " 'and',\n",
              " 'invaded',\n",
              " 'u',\n",
              " ',',\n",
              " 'captured',\n",
              " 'our',\n",
              " 'land',\n",
              " ',',\n",
              " 'conquered',\n",
              " 'our',\n",
              " 'mind',\n",
              " '.',\n",
              " 'From',\n",
              " 'Alexander',\n",
              " 'onwards',\n",
              " 'the',\n",
              " 'Greeks',\n",
              " ',',\n",
              " 'the',\n",
              " 'Turks',\n",
              " ',',\n",
              " 'the',\n",
              " 'Moguls',\n",
              " ',',\n",
              " 'the',\n",
              " 'Portuguese',\n",
              " ',',\n",
              " 'the',\n",
              " 'British',\n",
              " ',',\n",
              " 'the',\n",
              " 'French',\n",
              " ',',\n",
              " 'the',\n",
              " 'Dutch',\n",
              " ',',\n",
              " 'all',\n",
              " 'of',\n",
              " 'them',\n",
              " 'came',\n",
              " 'and',\n",
              " 'looted',\n",
              " 'u',\n",
              " ',',\n",
              " 'took',\n",
              " 'over',\n",
              " 'what',\n",
              " 'wa',\n",
              " 'ours',\n",
              " '.',\n",
              " 'Yet',\n",
              " 'we',\n",
              " 'have',\n",
              " 'not',\n",
              " 'done',\n",
              " 'this',\n",
              " 'to',\n",
              " 'any',\n",
              " 'other',\n",
              " 'nation',\n",
              " '.',\n",
              " 'We',\n",
              " 'have',\n",
              " 'not',\n",
              " 'conquered',\n",
              " 'anyone',\n",
              " '.',\n",
              " 'We',\n",
              " 'have',\n",
              " 'not',\n",
              " 'grabbed',\n",
              " 'their',\n",
              " 'land',\n",
              " ',',\n",
              " 'their',\n",
              " 'culture',\n",
              " 'and',\n",
              " 'their',\n",
              " 'history',\n",
              " 'and',\n",
              " 'tried',\n",
              " 'to',\n",
              " 'enforce',\n",
              " 'our',\n",
              " 'way',\n",
              " 'of',\n",
              " 'life',\n",
              " 'on',\n",
              " 'them',\n",
              " '.',\n",
              " 'Why',\n",
              " '?',\n",
              " 'Because',\n",
              " 'we',\n",
              " 'respect',\n",
              " 'the',\n",
              " 'freedom',\n",
              " 'of',\n",
              " 'others',\n",
              " '.',\n",
              " 'That',\n",
              " 'is',\n",
              " 'why',\n",
              " 'my',\n",
              " 'FIRST',\n",
              " 'VISION',\n",
              " 'is',\n",
              " 'that',\n",
              " 'of',\n",
              " 'FREEDOM',\n",
              " '.',\n",
              " 'I',\n",
              " 'believe',\n",
              " 'that',\n",
              " 'India',\n",
              " 'got',\n",
              " 'it',\n",
              " 'first',\n",
              " 'vision',\n",
              " 'of',\n",
              " 'this',\n",
              " 'in',\n",
              " '1857',\n",
              " ',',\n",
              " 'when',\n",
              " 'we',\n",
              " 'started',\n",
              " 'the',\n",
              " 'war',\n",
              " 'of',\n",
              " 'Independence',\n",
              " '.',\n",
              " 'It',\n",
              " 'is',\n",
              " 'this',\n",
              " 'freedom',\n",
              " 'that',\n",
              " 'we',\n",
              " 'must',\n",
              " 'protect',\n",
              " 'and',\n",
              " 'nurture',\n",
              " 'and',\n",
              " 'build',\n",
              " 'on',\n",
              " '.',\n",
              " 'If',\n",
              " 'we',\n",
              " 'are',\n",
              " 'not',\n",
              " 'free',\n",
              " ',',\n",
              " 'no',\n",
              " 'one',\n",
              " 'will',\n",
              " 'respect',\n",
              " 'u',\n",
              " '.',\n",
              " 'We',\n",
              " 'have',\n",
              " '10',\n",
              " 'percent',\n",
              " 'growth',\n",
              " 'rate',\n",
              " 'in',\n",
              " 'most',\n",
              " 'area',\n",
              " '.',\n",
              " 'Our',\n",
              " 'poverty',\n",
              " 'level',\n",
              " 'are',\n",
              " 'falling',\n",
              " '.',\n",
              " 'Our',\n",
              " 'achievement',\n",
              " 'are',\n",
              " 'being',\n",
              " 'globally',\n",
              " 'recognised',\n",
              " 'today',\n",
              " '.',\n",
              " 'Yet',\n",
              " 'we',\n",
              " 'lack',\n",
              " 'the',\n",
              " 'self-confidence',\n",
              " 'to',\n",
              " 'see',\n",
              " 'ourselves',\n",
              " 'a',\n",
              " 'a',\n",
              " 'developed',\n",
              " 'nation',\n",
              " ',',\n",
              " 'self-reliant',\n",
              " 'and',\n",
              " 'self-assured',\n",
              " '.',\n",
              " 'Isn',\n",
              " '’',\n",
              " 't',\n",
              " 'this',\n",
              " 'incorrect',\n",
              " '?',\n",
              " 'MY',\n",
              " 'SECOND',\n",
              " 'VISION',\n",
              " 'for',\n",
              " 'India',\n",
              " 'is',\n",
              " 'DEVELOPMENT',\n",
              " '.',\n",
              " 'For',\n",
              " 'fifty',\n",
              " 'year',\n",
              " 'we',\n",
              " 'have',\n",
              " 'been',\n",
              " 'a',\n",
              " 'developing',\n",
              " 'nation',\n",
              " '.',\n",
              " 'It',\n",
              " 'is',\n",
              " 'time',\n",
              " 'we',\n",
              " 'see',\n",
              " 'ourselves',\n",
              " 'a',\n",
              " 'a',\n",
              " 'developed',\n",
              " 'nation',\n",
              " '.',\n",
              " 'We',\n",
              " 'are',\n",
              " 'among',\n",
              " 'top',\n",
              " 'five',\n",
              " 'nation',\n",
              " 'in',\n",
              " 'the',\n",
              " 'world',\n",
              " 'in',\n",
              " 'term',\n",
              " 'of',\n",
              " 'GDP',\n",
              " '.',\n",
              " 'I',\n",
              " 'have',\n",
              " 'a',\n",
              " 'THIRD',\n",
              " 'VISION',\n",
              " '.',\n",
              " 'India',\n",
              " 'must',\n",
              " 'stand',\n",
              " 'up',\n",
              " 'to',\n",
              " 'the',\n",
              " 'world',\n",
              " '.',\n",
              " 'Because',\n",
              " 'I',\n",
              " 'believe',\n",
              " 'that',\n",
              " 'unless',\n",
              " 'India',\n",
              " 'stand',\n",
              " 'up',\n",
              " 'to',\n",
              " 'the',\n",
              " 'world',\n",
              " ',',\n",
              " 'no',\n",
              " 'one',\n",
              " 'will',\n",
              " 'respect',\n",
              " 'u',\n",
              " '.',\n",
              " 'Only',\n",
              " 'strength',\n",
              " 'respect',\n",
              " 'strength',\n",
              " '.',\n",
              " 'We',\n",
              " 'must',\n",
              " 'be',\n",
              " 'strong',\n",
              " 'not',\n",
              " 'only',\n",
              " 'a',\n",
              " 'a',\n",
              " 'military',\n",
              " 'power',\n",
              " 'but',\n",
              " 'also',\n",
              " 'a',\n",
              " 'an',\n",
              " 'economic',\n",
              " 'power',\n",
              " '.',\n",
              " 'Both',\n",
              " 'must',\n",
              " 'go',\n",
              " 'hand-in-hand',\n",
              " '.',\n",
              " 'My',\n",
              " 'good',\n",
              " 'fortune',\n",
              " 'wa',\n",
              " 'to',\n",
              " 'have',\n",
              " 'worked',\n",
              " 'with',\n",
              " 'three',\n",
              " 'great',\n",
              " 'mind',\n",
              " '.',\n",
              " 'Dr.Vikram',\n",
              " 'Sarabhai',\n",
              " ',',\n",
              " 'of',\n",
              " 'the',\n",
              " 'Dept',\n",
              " '.',\n",
              " 'of',\n",
              " 'Space',\n",
              " ',',\n",
              " 'Professor',\n",
              " 'Satish',\n",
              " 'Dhawan',\n",
              " ',',\n",
              " 'who',\n",
              " 'succeeded',\n",
              " 'him',\n",
              " 'and',\n",
              " 'Dr.',\n",
              " 'Brahm',\n",
              " 'Prakash',\n",
              " ',',\n",
              " 'father',\n",
              " 'of',\n",
              " 'nuclear',\n",
              " 'material',\n",
              " '.',\n",
              " 'I',\n",
              " 'wa',\n",
              " 'lucky',\n",
              " 'to',\n",
              " 'have',\n",
              " 'worked',\n",
              " 'with',\n",
              " 'all',\n",
              " 'three',\n",
              " 'of',\n",
              " 'them',\n",
              " 'closely',\n",
              " 'and',\n",
              " 'consider',\n",
              " 'this',\n",
              " 'the',\n",
              " 'great',\n",
              " 'opportunity',\n",
              " 'of',\n",
              " 'my',\n",
              " 'life',\n",
              " '.']"
            ]
          },
          "metadata": {},
          "execution_count": 64
        }
      ]
    },
    {
      "cell_type": "code",
      "source": [
        "##1Create Two numpy array of size 4 X 5 and 5 X 4.\n",
        "import numpy as np\n",
        "import random as rand\n",
        "     \n"
      ],
      "metadata": {
        "id": "ALBSkdR0Z3ti"
      },
      "execution_count": 74,
      "outputs": []
    },
    {
      "cell_type": "code",
      "source": [
        "arra1=np.array(np.arange(0,20).reshape(5,4))\n",
        "arra2=np.array(np.arange(0,20).reshape(4,5))"
      ],
      "metadata": {
        "id": "EAiCqXvoaKAy"
      },
      "execution_count": 75,
      "outputs": []
    },
    {
      "cell_type": "code",
      "source": [
        "arra1"
      ],
      "metadata": {
        "colab": {
          "base_uri": "https://localhost:8080/"
        },
        "id": "20TFrrdbbqnq",
        "outputId": "4401919a-166c-4b9d-a728-e44711330728"
      },
      "execution_count": 76,
      "outputs": [
        {
          "output_type": "execute_result",
          "data": {
            "text/plain": [
              "array([[ 0,  1,  2,  3],\n",
              "       [ 4,  5,  6,  7],\n",
              "       [ 8,  9, 10, 11],\n",
              "       [12, 13, 14, 15],\n",
              "       [16, 17, 18, 19]])"
            ]
          },
          "metadata": {},
          "execution_count": 76
        }
      ]
    },
    {
      "cell_type": "code",
      "source": [
        "arra2"
      ],
      "metadata": {
        "colab": {
          "base_uri": "https://localhost:8080/"
        },
        "id": "_5cUN90ubwzP",
        "outputId": "04c1f5eb-7220-42e8-bf5a-f1f112cf56a0"
      },
      "execution_count": 77,
      "outputs": [
        {
          "output_type": "execute_result",
          "data": {
            "text/plain": [
              "array([[ 0,  1,  2,  3,  4],\n",
              "       [ 5,  6,  7,  8,  9],\n",
              "       [10, 11, 12, 13, 14],\n",
              "       [15, 16, 17, 18, 19]])"
            ]
          },
          "metadata": {},
          "execution_count": 77
        }
      ]
    },
    {
      "cell_type": "code",
      "source": [
        "#2.Randomly Initalize that array\n",
        "array=np.random.randint(1, 100, size=(4, 5))\n",
        "array"
      ],
      "metadata": {
        "colab": {
          "base_uri": "https://localhost:8080/"
        },
        "id": "B5ttX9Dmb0xG",
        "outputId": "6b6268e2-814f-4ef9-ec13-7fe0428730db"
      },
      "execution_count": 78,
      "outputs": [
        {
          "output_type": "execute_result",
          "data": {
            "text/plain": [
              "array([[11, 93,  6, 38, 30],\n",
              "       [97, 70, 55, 91, 53],\n",
              "       [10, 71, 74, 47, 64],\n",
              "       [15, 73, 85, 29, 93]])"
            ]
          },
          "metadata": {},
          "execution_count": 78
        }
      ]
    },
    {
      "cell_type": "code",
      "source": [
        "#3.Perform matrix multiplication\n",
        "     \n",
        "\n",
        "x = np.array([[1,2],[3,4]])\n",
        "y = np.array([[5,6],[7,8]])\n",
        "print(np.dot(x, y))"
      ],
      "metadata": {
        "colab": {
          "base_uri": "https://localhost:8080/"
        },
        "id": "4h6XCgStb9wk",
        "outputId": "41628f2e-e275-4320-dc7a-ee3c37540943"
      },
      "execution_count": 79,
      "outputs": [
        {
          "output_type": "stream",
          "name": "stdout",
          "text": [
            "[[19 22]\n",
            " [43 50]]\n"
          ]
        }
      ]
    },
    {
      "cell_type": "code",
      "source": [
        "print(np.dot(arra1,arra2))"
      ],
      "metadata": {
        "colab": {
          "base_uri": "https://localhost:8080/"
        },
        "id": "2863YWRicCRj",
        "outputId": "6dedf7a8-b9ef-4d62-ffd2-4c9d5a357b65"
      },
      "execution_count": 80,
      "outputs": [
        {
          "output_type": "stream",
          "name": "stdout",
          "text": [
            "[[ 70  76  82  88  94]\n",
            " [190 212 234 256 278]\n",
            " [310 348 386 424 462]\n",
            " [430 484 538 592 646]\n",
            " [550 620 690 760 830]]\n"
          ]
        }
      ]
    },
    {
      "cell_type": "code",
      "source": [
        "#4.4) Perform elementwise matrix multiplication\n",
        "print(np.multiply(arra1,arra1))"
      ],
      "metadata": {
        "colab": {
          "base_uri": "https://localhost:8080/"
        },
        "id": "UlY1hutccIpM",
        "outputId": "87766440-8764-4e56-c275-1c1e30a674d6"
      },
      "execution_count": 81,
      "outputs": [
        {
          "output_type": "stream",
          "name": "stdout",
          "text": [
            "[[  0   1   4   9]\n",
            " [ 16  25  36  49]\n",
            " [ 64  81 100 121]\n",
            " [144 169 196 225]\n",
            " [256 289 324 361]]\n"
          ]
        }
      ]
    },
    {
      "cell_type": "code",
      "source": [
        "#5.Find mean, median of the first matrix.\n",
        "np.mean(arra1)"
      ],
      "metadata": {
        "colab": {
          "base_uri": "https://localhost:8080/"
        },
        "id": "x_AWjWHIcOca",
        "outputId": "1df8822d-ab97-4654-da1c-86dac6992968"
      },
      "execution_count": 82,
      "outputs": [
        {
          "output_type": "execute_result",
          "data": {
            "text/plain": [
              "9.5"
            ]
          },
          "metadata": {},
          "execution_count": 82
        }
      ]
    },
    {
      "cell_type": "code",
      "source": [
        "arra1"
      ],
      "metadata": {
        "colab": {
          "base_uri": "https://localhost:8080/"
        },
        "id": "PV4Y7a4qcU6G",
        "outputId": "d7424de3-5704-4292-d69d-7c59342a1009"
      },
      "execution_count": 83,
      "outputs": [
        {
          "output_type": "execute_result",
          "data": {
            "text/plain": [
              "array([[ 0,  1,  2,  3],\n",
              "       [ 4,  5,  6,  7],\n",
              "       [ 8,  9, 10, 11],\n",
              "       [12, 13, 14, 15],\n",
              "       [16, 17, 18, 19]])"
            ]
          },
          "metadata": {},
          "execution_count": 83
        }
      ]
    },
    {
      "cell_type": "code",
      "source": [
        "np.mean(arra1,axis=0)\n"
      ],
      "metadata": {
        "colab": {
          "base_uri": "https://localhost:8080/"
        },
        "id": "Hg_oUj0BcX7u",
        "outputId": "043de9f1-474c-4b2d-e48b-e4872dbea8a0"
      },
      "execution_count": 84,
      "outputs": [
        {
          "output_type": "execute_result",
          "data": {
            "text/plain": [
              "array([ 8.,  9., 10., 11.])"
            ]
          },
          "metadata": {},
          "execution_count": 84
        }
      ]
    },
    {
      "cell_type": "code",
      "source": [
        "np.mean(arra1,axis=1)"
      ],
      "metadata": {
        "colab": {
          "base_uri": "https://localhost:8080/"
        },
        "id": "rcCmrq9Pccf2",
        "outputId": "48325cd5-846c-4585-c266-03b395d8bf5d"
      },
      "execution_count": 85,
      "outputs": [
        {
          "output_type": "execute_result",
          "data": {
            "text/plain": [
              "array([ 1.5,  5.5,  9.5, 13.5, 17.5])"
            ]
          },
          "metadata": {},
          "execution_count": 85
        }
      ]
    },
    {
      "cell_type": "code",
      "source": [
        "np.median(arra1)"
      ],
      "metadata": {
        "colab": {
          "base_uri": "https://localhost:8080/"
        },
        "id": "JRwG30btcfqN",
        "outputId": "699b2a3b-ec61-4fbd-a498-6c20a55cdb03"
      },
      "execution_count": 86,
      "outputs": [
        {
          "output_type": "execute_result",
          "data": {
            "text/plain": [
              "9.5"
            ]
          },
          "metadata": {},
          "execution_count": 86
        }
      ]
    },
    {
      "cell_type": "code",
      "source": [
        "np.median(arra1,axis=0)"
      ],
      "metadata": {
        "colab": {
          "base_uri": "https://localhost:8080/"
        },
        "id": "KvlZBEfKcklz",
        "outputId": "46a92bb0-458b-4e7b-fed8-15debbb28a75"
      },
      "execution_count": 87,
      "outputs": [
        {
          "output_type": "execute_result",
          "data": {
            "text/plain": [
              "array([ 8.,  9., 10., 11.])"
            ]
          },
          "metadata": {},
          "execution_count": 87
        }
      ]
    },
    {
      "cell_type": "code",
      "source": [
        "np.median(arra1,axis=1)"
      ],
      "metadata": {
        "colab": {
          "base_uri": "https://localhost:8080/"
        },
        "id": "hgZYc2eTcqH7",
        "outputId": "8ec3a83f-3849-4ac7-d63c-2b6d36d735cf"
      },
      "execution_count": 88,
      "outputs": [
        {
          "output_type": "execute_result",
          "data": {
            "text/plain": [
              "array([ 1.5,  5.5,  9.5, 13.5, 17.5])"
            ]
          },
          "metadata": {},
          "execution_count": 88
        }
      ]
    },
    {
      "cell_type": "code",
      "source": [
        "#6.Get the transpose of that Matrix that you created. Create a square matrix and find its deter-\n",
        "#minant.\n",
        "print(arra1.T)"
      ],
      "metadata": {
        "colab": {
          "base_uri": "https://localhost:8080/"
        },
        "id": "2tUWxpxxcwU9",
        "outputId": "b128998f-13e1-4382-a63c-0170e7e0d81f"
      },
      "execution_count": 89,
      "outputs": [
        {
          "output_type": "stream",
          "name": "stdout",
          "text": [
            "[[ 0  4  8 12 16]\n",
            " [ 1  5  9 13 17]\n",
            " [ 2  6 10 14 18]\n",
            " [ 3  7 11 15 19]]\n"
          ]
        }
      ]
    },
    {
      "cell_type": "code",
      "source": [
        "# square matrix 3*3\n",
        "array3=np.array([[1,2,3],[4,5,6],[7,8,9]])\n",
        "\n",
        "array3\n"
      ],
      "metadata": {
        "colab": {
          "base_uri": "https://localhost:8080/"
        },
        "id": "B92VFOGSdGRM",
        "outputId": "052914fe-7df3-4ef0-d0b4-a705fdcd74e6"
      },
      "execution_count": 93,
      "outputs": [
        {
          "output_type": "execute_result",
          "data": {
            "text/plain": [
              "array([[1, 2, 3],\n",
              "       [4, 5, 6],\n",
              "       [7, 8, 9]])"
            ]
          },
          "metadata": {},
          "execution_count": 93
        }
      ]
    },
    {
      "cell_type": "code",
      "source": [
        "np.linalg.det(array3)"
      ],
      "metadata": {
        "colab": {
          "base_uri": "https://localhost:8080/"
        },
        "id": "nkbJialMdRFJ",
        "outputId": "4b973bae-64db-4dea-cb3d-58af708fef66"
      },
      "execution_count": 94,
      "outputs": [
        {
          "output_type": "execute_result",
          "data": {
            "text/plain": [
              "0.0"
            ]
          },
          "metadata": {},
          "execution_count": 94
        }
      ]
    },
    {
      "cell_type": "code",
      "source": [
        "#Obtain each row in the second column of the first array.\n",
        "array3[:,1]"
      ],
      "metadata": {
        "colab": {
          "base_uri": "https://localhost:8080/"
        },
        "id": "33YfuDhbdVPv",
        "outputId": "b08ce032-7446-4584-bc8d-1f5842b63874"
      },
      "execution_count": 95,
      "outputs": [
        {
          "output_type": "execute_result",
          "data": {
            "text/plain": [
              "array([2, 5, 8])"
            ]
          },
          "metadata": {},
          "execution_count": 95
        }
      ]
    },
    {
      "cell_type": "code",
      "source": [
        "#8.Convert Numeric entries(columns) of mtcars.csv to Mean Centered Version\n",
        "import pandas as pd\n",
        "import numpy as np\n",
        "data=pd.read_csv('/content/sample_data/mtcars.csv',usecols=['mpg',\t'cyl',\t'disp'\t,'hp'\t,'drat',\t'wt'\t,'qsec'\t,'vs','am','gear','carb'])"
      ],
      "metadata": {
        "id": "Q6UO9vM1diAH"
      },
      "execution_count": 101,
      "outputs": []
    },
    {
      "cell_type": "code",
      "source": [
        "\n",
        "array1=np.array(data)\n",
        "array1"
      ],
      "metadata": {
        "colab": {
          "base_uri": "https://localhost:8080/"
        },
        "id": "DoH2dTvwfchm",
        "outputId": "aa80f0a5-9158-4702-b00d-141107778830"
      },
      "execution_count": 103,
      "outputs": [
        {
          "output_type": "execute_result",
          "data": {
            "text/plain": [
              "array([[ 21.   ,   6.   , 160.   , 110.   ,   3.9  ,   2.62 ,  16.46 ,\n",
              "          0.   ,   1.   ,   4.   ,   4.   ],\n",
              "       [ 21.   ,   6.   , 160.   , 110.   ,   3.9  ,   2.875,  17.02 ,\n",
              "          0.   ,   1.   ,   4.   ,   4.   ],\n",
              "       [ 22.8  ,   4.   , 108.   ,  93.   ,   3.85 ,   2.32 ,  18.61 ,\n",
              "          1.   ,   1.   ,   4.   ,   1.   ],\n",
              "       [ 21.4  ,   6.   , 258.   , 110.   ,   3.08 ,   3.215,  19.44 ,\n",
              "          1.   ,   0.   ,   3.   ,   1.   ],\n",
              "       [ 18.7  ,   8.   , 360.   , 175.   ,   3.15 ,   3.44 ,  17.02 ,\n",
              "          0.   ,   0.   ,   3.   ,   2.   ],\n",
              "       [ 18.1  ,   6.   , 225.   , 105.   ,   2.76 ,   3.46 ,  20.22 ,\n",
              "          1.   ,   0.   ,   3.   ,   1.   ],\n",
              "       [ 14.3  ,   8.   , 360.   , 245.   ,   3.21 ,   3.57 ,  15.84 ,\n",
              "          0.   ,   0.   ,   3.   ,   4.   ],\n",
              "       [ 24.4  ,   4.   , 146.7  ,  62.   ,   3.69 ,   3.19 ,  20.   ,\n",
              "          1.   ,   0.   ,   4.   ,   2.   ],\n",
              "       [ 22.8  ,   4.   , 140.8  ,  95.   ,   3.92 ,   3.15 ,  22.9  ,\n",
              "          1.   ,   0.   ,   4.   ,   2.   ],\n",
              "       [ 19.2  ,   6.   , 167.6  , 123.   ,   3.92 ,   3.44 ,  18.3  ,\n",
              "          1.   ,   0.   ,   4.   ,   4.   ],\n",
              "       [ 17.8  ,   6.   , 167.6  , 123.   ,   3.92 ,   3.44 ,  18.9  ,\n",
              "          1.   ,   0.   ,   4.   ,   4.   ],\n",
              "       [ 16.4  ,   8.   , 275.8  , 180.   ,   3.07 ,   4.07 ,  17.4  ,\n",
              "          0.   ,   0.   ,   3.   ,   3.   ],\n",
              "       [ 17.3  ,   8.   , 275.8  , 180.   ,   3.07 ,   3.73 ,  17.6  ,\n",
              "          0.   ,   0.   ,   3.   ,   3.   ],\n",
              "       [ 15.2  ,   8.   , 275.8  , 180.   ,   3.07 ,   3.78 ,  18.   ,\n",
              "          0.   ,   0.   ,   3.   ,   3.   ],\n",
              "       [ 10.4  ,   8.   , 472.   , 205.   ,   2.93 ,   5.25 ,  17.98 ,\n",
              "          0.   ,   0.   ,   3.   ,   4.   ],\n",
              "       [ 10.4  ,   8.   , 460.   , 215.   ,   3.   ,   5.424,  17.82 ,\n",
              "          0.   ,   0.   ,   3.   ,   4.   ],\n",
              "       [ 14.7  ,   8.   , 440.   , 230.   ,   3.23 ,   5.345,  17.42 ,\n",
              "          0.   ,   0.   ,   3.   ,   4.   ],\n",
              "       [ 32.4  ,   4.   ,  78.7  ,  66.   ,   4.08 ,   2.2  ,  19.47 ,\n",
              "          1.   ,   1.   ,   4.   ,   1.   ],\n",
              "       [ 30.4  ,   4.   ,  75.7  ,  52.   ,   4.93 ,   1.615,  18.52 ,\n",
              "          1.   ,   1.   ,   4.   ,   2.   ],\n",
              "       [ 33.9  ,   4.   ,  71.1  ,  65.   ,   4.22 ,   1.835,  19.9  ,\n",
              "          1.   ,   1.   ,   4.   ,   1.   ],\n",
              "       [ 21.5  ,   4.   , 120.1  ,  97.   ,   3.7  ,   2.465,  20.01 ,\n",
              "          1.   ,   0.   ,   3.   ,   1.   ],\n",
              "       [ 15.5  ,   8.   , 318.   , 150.   ,   2.76 ,   3.52 ,  16.87 ,\n",
              "          0.   ,   0.   ,   3.   ,   2.   ],\n",
              "       [ 15.2  ,   8.   , 304.   , 150.   ,   3.15 ,   3.435,  17.3  ,\n",
              "          0.   ,   0.   ,   3.   ,   2.   ],\n",
              "       [ 13.3  ,   8.   , 350.   , 245.   ,   3.73 ,   3.84 ,  15.41 ,\n",
              "          0.   ,   0.   ,   3.   ,   4.   ],\n",
              "       [ 19.2  ,   8.   , 400.   , 175.   ,   3.08 ,   3.845,  17.05 ,\n",
              "          0.   ,   0.   ,   3.   ,   2.   ],\n",
              "       [ 27.3  ,   4.   ,  79.   ,  66.   ,   4.08 ,   1.935,  18.9  ,\n",
              "          1.   ,   1.   ,   4.   ,   1.   ],\n",
              "       [ 26.   ,   4.   , 120.3  ,  91.   ,   4.43 ,   2.14 ,  16.7  ,\n",
              "          0.   ,   1.   ,   5.   ,   2.   ],\n",
              "       [ 30.4  ,   4.   ,  95.1  , 113.   ,   3.77 ,   1.513,  16.9  ,\n",
              "          1.   ,   1.   ,   5.   ,   2.   ],\n",
              "       [ 15.8  ,   8.   , 351.   , 264.   ,   4.22 ,   3.17 ,  14.5  ,\n",
              "          0.   ,   1.   ,   5.   ,   4.   ],\n",
              "       [ 19.7  ,   6.   , 145.   , 175.   ,   3.62 ,   2.77 ,  15.5  ,\n",
              "          0.   ,   1.   ,   5.   ,   6.   ],\n",
              "       [ 15.   ,   8.   , 301.   , 335.   ,   3.54 ,   3.57 ,  14.6  ,\n",
              "          0.   ,   1.   ,   5.   ,   8.   ],\n",
              "       [ 21.4  ,   4.   , 121.   , 109.   ,   4.11 ,   2.78 ,  18.6  ,\n",
              "          1.   ,   1.   ,   4.   ,   2.   ]])"
            ]
          },
          "metadata": {},
          "execution_count": 103
        }
      ]
    },
    {
      "cell_type": "code",
      "source": [
        "\n",
        "nparrayCentered = array1.T - np.mean(array1, axis=1) # Remove the mean for␣\n",
        "##,→each row\n",
        "nparrayCentered = nparrayCentered.T #\n",
        "     \n",
        "\n",
        "nparrayCentered"
      ],
      "metadata": {
        "colab": {
          "base_uri": "https://localhost:8080/"
        },
        "id": "qCQBGNp6fqPl",
        "outputId": "e015f4b6-c327-464d-f0c1-aa6d41d4fa30"
      },
      "execution_count": 104,
      "outputs": [
        {
          "output_type": "execute_result",
          "data": {
            "text/plain": [
              "array([[-8.90727273e+00, -2.39072727e+01,  1.30092727e+02,\n",
              "         8.00927273e+01, -2.60072727e+01, -2.72872727e+01,\n",
              "        -1.34472727e+01, -2.99072727e+01, -2.89072727e+01,\n",
              "        -2.59072727e+01, -2.59072727e+01],\n",
              "       [-8.98136364e+00, -2.39813636e+01,  1.30018636e+02,\n",
              "         8.00186364e+01, -2.60813636e+01, -2.71063636e+01,\n",
              "        -1.29613636e+01, -2.99813636e+01, -2.89813636e+01,\n",
              "        -2.59813636e+01, -2.59813636e+01],\n",
              "       [-7.98181818e-01, -1.95981818e+01,  8.44018182e+01,\n",
              "         6.94018182e+01, -1.97481818e+01, -2.12781818e+01,\n",
              "        -4.98818182e+00, -2.25981818e+01, -2.25981818e+01,\n",
              "        -1.95981818e+01, -2.25981818e+01],\n",
              "       [-1.73395455e+01, -3.27395455e+01,  2.19260455e+02,\n",
              "         7.12604545e+01, -3.56595455e+01, -3.55245455e+01,\n",
              "        -1.92995455e+01, -3.77395455e+01, -3.87395455e+01,\n",
              "        -3.57395455e+01, -3.77395455e+01],\n",
              "       [-3.49645455e+01, -4.56645455e+01,  3.06335455e+02,\n",
              "         1.21335455e+02, -5.05145455e+01, -5.02245455e+01,\n",
              "        -3.66445455e+01, -5.36645455e+01, -5.36645455e+01,\n",
              "        -5.06645455e+01, -5.16645455e+01],\n",
              "       [-1.69490909e+01, -2.90490909e+01,  1.89950909e+02,\n",
              "         6.99509091e+01, -3.22890909e+01, -3.15890909e+01,\n",
              "        -1.48290909e+01, -3.40490909e+01, -3.50490909e+01,\n",
              "        -3.20490909e+01, -3.40490909e+01],\n",
              "       [-4.54200000e+01, -5.17200000e+01,  3.00280000e+02,\n",
              "         1.85280000e+02, -5.65100000e+01, -5.61500000e+01,\n",
              "        -4.38800000e+01, -5.97200000e+01, -5.97200000e+01,\n",
              "        -5.67200000e+01, -5.57200000e+01],\n",
              "       [-2.34545455e-01, -2.06345455e+01,  1.22065455e+02,\n",
              "         3.73654545e+01, -2.09445455e+01, -2.14445455e+01,\n",
              "        -4.63454545e+00, -2.36345455e+01, -2.46345455e+01,\n",
              "        -2.06345455e+01, -2.26345455e+01],\n",
              "       [-4.43363636e+00, -2.32336364e+01,  1.13566364e+02,\n",
              "         6.77663636e+01, -2.33136364e+01, -2.40836364e+01,\n",
              "        -4.33363636e+00, -2.62336364e+01, -2.72336364e+01,\n",
              "        -2.32336364e+01, -2.52336364e+01],\n",
              "       [-1.26600000e+01, -2.58600000e+01,  1.35740000e+02,\n",
              "         9.11400000e+01, -2.79400000e+01, -2.84200000e+01,\n",
              "        -1.35600000e+01, -3.08600000e+01, -3.18600000e+01,\n",
              "        -2.78600000e+01, -2.78600000e+01],\n",
              "       [-1.39872727e+01, -2.57872727e+01,  1.35812727e+02,\n",
              "         9.12127273e+01, -2.78672727e+01, -2.83472727e+01,\n",
              "        -1.28872727e+01, -3.07872727e+01, -3.17872727e+01,\n",
              "        -2.77872727e+01, -2.77872727e+01],\n",
              "       [-3.00309091e+01, -3.84309091e+01,  2.29369091e+02,\n",
              "         1.33569091e+02, -4.33609091e+01, -4.23609091e+01,\n",
              "        -2.90309091e+01, -4.64309091e+01, -4.64309091e+01,\n",
              "        -4.34309091e+01, -4.34309091e+01],\n",
              "       [-2.92000000e+01, -3.85000000e+01,  2.29300000e+02,\n",
              "         1.33500000e+02, -4.34300000e+01, -4.27700000e+01,\n",
              "        -2.89000000e+01, -4.65000000e+01, -4.65000000e+01,\n",
              "        -4.35000000e+01, -4.35000000e+01],\n",
              "       [-3.11500000e+01, -3.83500000e+01,  2.29450000e+02,\n",
              "         1.33650000e+02, -4.32800000e+01, -4.25700000e+01,\n",
              "        -2.83500000e+01, -4.63500000e+01, -4.63500000e+01,\n",
              "        -4.33500000e+01, -4.33500000e+01],\n",
              "       [-5.58327273e+01, -5.82327273e+01,  4.05767273e+02,\n",
              "         1.38767273e+02, -6.33027273e+01, -6.09827273e+01,\n",
              "        -4.82527273e+01, -6.62327273e+01, -6.62327273e+01,\n",
              "        -6.32327273e+01, -6.22327273e+01],\n",
              "       [-5.56585455e+01, -5.80585455e+01,  3.93941455e+02,\n",
              "         1.48941455e+02, -6.30585455e+01, -6.06345455e+01,\n",
              "        -4.82385455e+01, -6.60585455e+01, -6.60585455e+01,\n",
              "        -6.30585455e+01, -6.20585455e+01],\n",
              "       [-5.12722727e+01, -5.79722727e+01,  3.74027727e+02,\n",
              "         1.64027727e+02, -6.27422727e+01, -6.06272727e+01,\n",
              "        -4.85522727e+01, -6.59722727e+01, -6.59722727e+01,\n",
              "        -6.29722727e+01, -6.19722727e+01],\n",
              "       [ 1.29590909e+01, -1.54409091e+01,  5.92590909e+01,\n",
              "         4.65590909e+01, -1.53609091e+01, -1.72409091e+01,\n",
              "         2.90909091e-02, -1.84409091e+01, -1.84409091e+01,\n",
              "        -1.54409091e+01, -1.84409091e+01],\n",
              "       [ 1.26577273e+01, -1.37422727e+01,  5.79577273e+01,\n",
              "         3.42577273e+01, -1.28122727e+01, -1.61272727e+01,\n",
              "         7.77727273e-01, -1.67422727e+01, -1.67422727e+01,\n",
              "        -1.37422727e+01, -1.57422727e+01],\n",
              "       [ 1.50859091e+01, -1.48140909e+01,  5.22859091e+01,\n",
              "         4.61859091e+01, -1.45940909e+01, -1.69790909e+01,\n",
              "         1.08590909e+00, -1.78140909e+01, -1.78140909e+01,\n",
              "        -1.48140909e+01, -1.78140909e+01],\n",
              "       [-3.38863636e+00, -2.08886364e+01,  9.52113636e+01,\n",
              "         7.21113636e+01, -2.11886364e+01, -2.24236364e+01,\n",
              "        -4.87863636e+00, -2.38886364e+01, -2.48886364e+01,\n",
              "        -2.18886364e+01, -2.38886364e+01],\n",
              "       [-3.17409091e+01, -3.92409091e+01,  2.70759091e+02,\n",
              "         1.02759091e+02, -4.44809091e+01, -4.37209091e+01,\n",
              "        -3.03709091e+01, -4.72409091e+01, -4.72409091e+01,\n",
              "        -4.42409091e+01, -4.52409091e+01],\n",
              "       [-3.08077273e+01, -3.80077273e+01,  2.57992273e+02,\n",
              "         1.03992273e+02, -4.28577273e+01, -4.25727273e+01,\n",
              "        -2.87077273e+01, -4.60077273e+01, -4.60077273e+01,\n",
              "        -4.30077273e+01, -4.40077273e+01],\n",
              "       [-4.54527273e+01, -5.07527273e+01,  2.91247273e+02,\n",
              "         1.86247273e+02, -5.50227273e+01, -5.49127273e+01,\n",
              "        -4.33427273e+01, -5.87527273e+01, -5.87527273e+01,\n",
              "        -5.57527273e+01, -5.47527273e+01],\n",
              "       [-3.81795455e+01, -4.93795455e+01,  3.42620455e+02,\n",
              "         1.17620455e+02, -5.42995455e+01, -5.35345455e+01,\n",
              "        -4.03295455e+01, -5.73795455e+01, -5.73795455e+01,\n",
              "        -5.43795455e+01, -5.53795455e+01],\n",
              "       [ 8.37136364e+00, -1.49286364e+01,  6.00713636e+01,\n",
              "         4.70713636e+01, -1.48486364e+01, -1.69936364e+01,\n",
              "        -2.86363636e-02, -1.79286364e+01, -1.79286364e+01,\n",
              "        -1.49286364e+01, -1.79286364e+01],\n",
              "       [ 1.22090909e+00, -2.07790909e+01,  9.55209091e+01,\n",
              "         6.62209091e+01, -2.03490909e+01, -2.26390909e+01,\n",
              "        -8.07909091e+00, -2.47790909e+01, -2.37790909e+01,\n",
              "        -1.97790909e+01, -2.27790909e+01],\n",
              "       [ 5.51972727e+00, -2.08802727e+01,  7.02197273e+01,\n",
              "         8.81197273e+01, -2.11102727e+01, -2.33672727e+01,\n",
              "        -7.98027273e+00, -2.38802727e+01, -2.38802727e+01,\n",
              "        -1.98802727e+01, -2.28802727e+01],\n",
              "       [-4.51718182e+01, -5.29718182e+01,  2.90028182e+02,\n",
              "         2.03028182e+02, -5.67518182e+01, -5.78018182e+01,\n",
              "        -4.64718182e+01, -6.09718182e+01, -5.99718182e+01,\n",
              "        -5.59718182e+01, -5.69718182e+01],\n",
              "       [-1.48081818e+01, -2.85081818e+01,  1.10491818e+02,\n",
              "         1.40491818e+02, -3.08881818e+01, -3.17381818e+01,\n",
              "        -1.90081818e+01, -3.45081818e+01, -3.35081818e+01,\n",
              "        -2.95081818e+01, -2.85081818e+01],\n",
              "       [-4.81554545e+01, -5.51554545e+01,  2.37844545e+02,\n",
              "         2.71844545e+02, -5.96154545e+01, -5.95854545e+01,\n",
              "        -4.85554545e+01, -6.31554545e+01, -6.21554545e+01,\n",
              "        -5.81554545e+01, -5.51554545e+01],\n",
              "       [-4.86272727e+00, -2.22627273e+01,  9.47372727e+01,\n",
              "         8.27372727e+01, -2.21527273e+01, -2.34827273e+01,\n",
              "        -7.66272727e+00, -2.52627273e+01, -2.52627273e+01,\n",
              "        -2.22627273e+01, -2.42627273e+01]])"
            ]
          },
          "metadata": {},
          "execution_count": 104
        }
      ]
    },
    {
      "cell_type": "code",
      "source": [
        "import numpy as np\n",
        "import matplotlib as plt\n",
        "from sklearn import datasets #various toy datasets\n",
        "from sklearn import metrics #Check accuracy of model\n",
        "from sklearn.linear_model import LogisticRegression #various supervised and␣\n",
        "##,→unsupervised learning algorithms"
      ],
      "metadata": {
        "id": "LgqWqYjcluYV"
      },
      "execution_count": 115,
      "outputs": []
    },
    {
      "cell_type": "code",
      "source": [
        "hello = datasets.load_breast_cancer()"
      ],
      "metadata": {
        "id": "IUms73Sglx3y"
      },
      "execution_count": 116,
      "outputs": []
    },
    {
      "cell_type": "code",
      "source": [
        "X = hello.data\n",
        "y = hello.target\n",
        "feature_names = hello.feature_names\n",
        "\n",
        "\n",
        "target_names = hello.target\n",
        "print(\"Feature names:\", feature_names)\n",
        "print(\"Target names:\", target_names)\n",
        "print(\"\\nFirst 10 rows of X:\\n\", X[:10])"
      ],
      "metadata": {
        "colab": {
          "base_uri": "https://localhost:8080/"
        },
        "id": "K8EWae2gl1pq",
        "outputId": "f4092989-b983-4569-c33c-ea58701012e4"
      },
      "execution_count": 117,
      "outputs": [
        {
          "output_type": "stream",
          "name": "stdout",
          "text": [
            "Feature names: ['mean radius' 'mean texture' 'mean perimeter' 'mean area'\n",
            " 'mean smoothness' 'mean compactness' 'mean concavity'\n",
            " 'mean concave points' 'mean symmetry' 'mean fractal dimension'\n",
            " 'radius error' 'texture error' 'perimeter error' 'area error'\n",
            " 'smoothness error' 'compactness error' 'concavity error'\n",
            " 'concave points error' 'symmetry error' 'fractal dimension error'\n",
            " 'worst radius' 'worst texture' 'worst perimeter' 'worst area'\n",
            " 'worst smoothness' 'worst compactness' 'worst concavity'\n",
            " 'worst concave points' 'worst symmetry' 'worst fractal dimension']\n",
            "Target names: [0 0 0 0 0 0 0 0 0 0 0 0 0 0 0 0 0 0 0 1 1 1 0 0 0 0 0 0 0 0 0 0 0 0 0 0 0\n",
            " 1 0 0 0 0 0 0 0 0 1 0 1 1 1 1 1 0 0 1 0 0 1 1 1 1 0 1 0 0 1 1 1 1 0 1 0 0\n",
            " 1 0 1 0 0 1 1 1 0 0 1 0 0 0 1 1 1 0 1 1 0 0 1 1 1 0 0 1 1 1 1 0 1 1 0 1 1\n",
            " 1 1 1 1 1 1 0 0 0 1 0 0 1 1 1 0 0 1 0 1 0 0 1 0 0 1 1 0 1 1 0 1 1 1 1 0 1\n",
            " 1 1 1 1 1 1 1 1 0 1 1 1 1 0 0 1 0 1 1 0 0 1 1 0 0 1 1 1 1 0 1 1 0 0 0 1 0\n",
            " 1 0 1 1 1 0 1 1 0 0 1 0 0 0 0 1 0 0 0 1 0 1 0 1 1 0 1 0 0 0 0 1 1 0 0 1 1\n",
            " 1 0 1 1 1 1 1 0 0 1 1 0 1 1 0 0 1 0 1 1 1 1 0 1 1 1 1 1 0 1 0 0 0 0 0 0 0\n",
            " 0 0 0 0 0 0 0 1 1 1 1 1 1 0 1 0 1 1 0 1 1 0 1 0 0 1 1 1 1 1 1 1 1 1 1 1 1\n",
            " 1 0 1 1 0 1 0 1 1 1 1 1 1 1 1 1 1 1 1 1 1 0 1 1 1 0 1 0 1 1 1 1 0 0 0 1 1\n",
            " 1 1 0 1 0 1 0 1 1 1 0 1 1 1 1 1 1 1 0 0 0 1 1 1 1 1 1 1 1 1 1 1 0 0 1 0 0\n",
            " 0 1 0 0 1 1 1 1 1 0 1 1 1 1 1 0 1 1 1 0 1 1 0 0 1 1 1 1 1 1 0 1 1 1 1 1 1\n",
            " 1 0 1 1 1 1 1 0 1 1 0 1 1 1 1 1 1 1 1 1 1 1 1 0 1 0 0 1 0 1 1 1 1 1 0 1 1\n",
            " 0 1 0 1 1 0 1 0 1 1 1 1 1 1 1 1 0 0 1 1 1 1 1 1 0 1 1 1 1 1 1 1 1 1 1 0 1\n",
            " 1 1 1 1 1 1 0 1 0 1 1 0 1 1 1 1 1 0 0 1 0 1 0 1 1 1 1 1 0 1 1 0 1 0 1 0 0\n",
            " 1 1 1 0 1 1 1 1 1 1 1 1 1 1 1 0 1 0 0 1 1 1 1 1 1 1 1 1 1 1 1 1 1 1 1 1 1\n",
            " 1 1 1 1 1 1 1 0 0 0 0 0 0 1]\n",
            "\n",
            "First 10 rows of X:\n",
            " [[1.799e+01 1.038e+01 1.228e+02 1.001e+03 1.184e-01 2.776e-01 3.001e-01\n",
            "  1.471e-01 2.419e-01 7.871e-02 1.095e+00 9.053e-01 8.589e+00 1.534e+02\n",
            "  6.399e-03 4.904e-02 5.373e-02 1.587e-02 3.003e-02 6.193e-03 2.538e+01\n",
            "  1.733e+01 1.846e+02 2.019e+03 1.622e-01 6.656e-01 7.119e-01 2.654e-01\n",
            "  4.601e-01 1.189e-01]\n",
            " [2.057e+01 1.777e+01 1.329e+02 1.326e+03 8.474e-02 7.864e-02 8.690e-02\n",
            "  7.017e-02 1.812e-01 5.667e-02 5.435e-01 7.339e-01 3.398e+00 7.408e+01\n",
            "  5.225e-03 1.308e-02 1.860e-02 1.340e-02 1.389e-02 3.532e-03 2.499e+01\n",
            "  2.341e+01 1.588e+02 1.956e+03 1.238e-01 1.866e-01 2.416e-01 1.860e-01\n",
            "  2.750e-01 8.902e-02]\n",
            " [1.969e+01 2.125e+01 1.300e+02 1.203e+03 1.096e-01 1.599e-01 1.974e-01\n",
            "  1.279e-01 2.069e-01 5.999e-02 7.456e-01 7.869e-01 4.585e+00 9.403e+01\n",
            "  6.150e-03 4.006e-02 3.832e-02 2.058e-02 2.250e-02 4.571e-03 2.357e+01\n",
            "  2.553e+01 1.525e+02 1.709e+03 1.444e-01 4.245e-01 4.504e-01 2.430e-01\n",
            "  3.613e-01 8.758e-02]\n",
            " [1.142e+01 2.038e+01 7.758e+01 3.861e+02 1.425e-01 2.839e-01 2.414e-01\n",
            "  1.052e-01 2.597e-01 9.744e-02 4.956e-01 1.156e+00 3.445e+00 2.723e+01\n",
            "  9.110e-03 7.458e-02 5.661e-02 1.867e-02 5.963e-02 9.208e-03 1.491e+01\n",
            "  2.650e+01 9.887e+01 5.677e+02 2.098e-01 8.663e-01 6.869e-01 2.575e-01\n",
            "  6.638e-01 1.730e-01]\n",
            " [2.029e+01 1.434e+01 1.351e+02 1.297e+03 1.003e-01 1.328e-01 1.980e-01\n",
            "  1.043e-01 1.809e-01 5.883e-02 7.572e-01 7.813e-01 5.438e+00 9.444e+01\n",
            "  1.149e-02 2.461e-02 5.688e-02 1.885e-02 1.756e-02 5.115e-03 2.254e+01\n",
            "  1.667e+01 1.522e+02 1.575e+03 1.374e-01 2.050e-01 4.000e-01 1.625e-01\n",
            "  2.364e-01 7.678e-02]\n",
            " [1.245e+01 1.570e+01 8.257e+01 4.771e+02 1.278e-01 1.700e-01 1.578e-01\n",
            "  8.089e-02 2.087e-01 7.613e-02 3.345e-01 8.902e-01 2.217e+00 2.719e+01\n",
            "  7.510e-03 3.345e-02 3.672e-02 1.137e-02 2.165e-02 5.082e-03 1.547e+01\n",
            "  2.375e+01 1.034e+02 7.416e+02 1.791e-01 5.249e-01 5.355e-01 1.741e-01\n",
            "  3.985e-01 1.244e-01]\n",
            " [1.825e+01 1.998e+01 1.196e+02 1.040e+03 9.463e-02 1.090e-01 1.127e-01\n",
            "  7.400e-02 1.794e-01 5.742e-02 4.467e-01 7.732e-01 3.180e+00 5.391e+01\n",
            "  4.314e-03 1.382e-02 2.254e-02 1.039e-02 1.369e-02 2.179e-03 2.288e+01\n",
            "  2.766e+01 1.532e+02 1.606e+03 1.442e-01 2.576e-01 3.784e-01 1.932e-01\n",
            "  3.063e-01 8.368e-02]\n",
            " [1.371e+01 2.083e+01 9.020e+01 5.779e+02 1.189e-01 1.645e-01 9.366e-02\n",
            "  5.985e-02 2.196e-01 7.451e-02 5.835e-01 1.377e+00 3.856e+00 5.096e+01\n",
            "  8.805e-03 3.029e-02 2.488e-02 1.448e-02 1.486e-02 5.412e-03 1.706e+01\n",
            "  2.814e+01 1.106e+02 8.970e+02 1.654e-01 3.682e-01 2.678e-01 1.556e-01\n",
            "  3.196e-01 1.151e-01]\n",
            " [1.300e+01 2.182e+01 8.750e+01 5.198e+02 1.273e-01 1.932e-01 1.859e-01\n",
            "  9.353e-02 2.350e-01 7.389e-02 3.063e-01 1.002e+00 2.406e+00 2.432e+01\n",
            "  5.731e-03 3.502e-02 3.553e-02 1.226e-02 2.143e-02 3.749e-03 1.549e+01\n",
            "  3.073e+01 1.062e+02 7.393e+02 1.703e-01 5.401e-01 5.390e-01 2.060e-01\n",
            "  4.378e-01 1.072e-01]\n",
            " [1.246e+01 2.404e+01 8.397e+01 4.759e+02 1.186e-01 2.396e-01 2.273e-01\n",
            "  8.543e-02 2.030e-01 8.243e-02 2.976e-01 1.599e+00 2.039e+00 2.394e+01\n",
            "  7.149e-03 7.217e-02 7.743e-02 1.432e-02 1.789e-02 1.008e-02 1.509e+01\n",
            "  4.068e+01 9.765e+01 7.114e+02 1.853e-01 1.058e+00 1.105e+00 2.210e-01\n",
            "  4.366e-01 2.075e-01]]\n"
          ]
        }
      ]
    },
    {
      "cell_type": "code",
      "source": [
        "from sklearn.model_selection import train_test_split"
      ],
      "metadata": {
        "id": "Rx9PzmPTl68i"
      },
      "execution_count": 118,
      "outputs": []
    },
    {
      "cell_type": "code",
      "source": [
        "X_train, X_test, y_train, y_test = train_test_split(\n",
        "X, y, test_size = 0.4, random_state=1\n",
        ")"
      ],
      "metadata": {
        "id": "KRtl5i2il-5f"
      },
      "execution_count": 119,
      "outputs": []
    }
  ]
}